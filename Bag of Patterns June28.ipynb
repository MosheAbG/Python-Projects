{
 "cells": [
  {
   "cell_type": "markdown",
   "metadata": {},
   "source": [
    "# Bag Of Patterns Updated June 28"
   ]
  },
  {
   "cell_type": "code",
   "execution_count": 1,
   "metadata": {},
   "outputs": [],
   "source": [
    "import pandas as pd\n",
    "import numpy as np\n",
    "import matplotlib.pyplot as plt"
   ]
  },
  {
   "cell_type": "code",
   "execution_count": 2,
   "metadata": {},
   "outputs": [],
   "source": [
    "import zipfile \n",
    "\n",
    "zip = zipfile.ZipFile(\"data.zip\")"
   ]
  },
  {
   "cell_type": "code",
   "execution_count": 3,
   "metadata": {},
   "outputs": [],
   "source": [
    "links = []\n",
    "for i in zip.namelist():\n",
    "    if i[-1] == \"v\":\n",
    "        links.append(i)"
   ]
  },
  {
   "cell_type": "code",
   "execution_count": 4,
   "metadata": {},
   "outputs": [],
   "source": [
    "li = []\n",
    "for j in links:\n",
    "    df = pd.read_csv(j, index_col=None, header=0)\n",
    "    li.append(df)"
   ]
  },
  {
   "cell_type": "code",
   "execution_count": 5,
   "metadata": {},
   "outputs": [],
   "source": [
    "category = []\n",
    "\n",
    "for i in range(0,500):\n",
    "    if i <=100:\n",
    "        category.append(1)\n",
    "    elif i <= 200:\n",
    "        category.append(2)\n",
    "    elif i <=300:\n",
    "        category.append(3)\n",
    "    elif i<=400:\n",
    "        category.append(4)\n",
    "    else:\n",
    "        category.append(5)"
   ]
  },
  {
   "cell_type": "code",
   "execution_count": 6,
   "metadata": {},
   "outputs": [],
   "source": [
    "from sklearn.model_selection import train_test_split"
   ]
  },
  {
   "cell_type": "code",
   "execution_count": 7,
   "metadata": {},
   "outputs": [],
   "source": [
    "X_train, X_test, y_train, y_test = train_test_split(li[200:400], category[200:400], test_size=0.25, random_state=200)"
   ]
  },
  {
   "cell_type": "code",
   "execution_count": 8,
   "metadata": {},
   "outputs": [],
   "source": [
    "from pyts.transformation import BagOfPatterns\n",
    "bop = BagOfPatterns(window_size=5, word_size=3, n_bins=2,\n",
    "                    numerosity_reduction=False, sparse=False)"
   ]
  },
  {
   "cell_type": "markdown",
   "metadata": {},
   "source": [
    "# Good Functions\n"
   ]
  },
  {
   "cell_type": "code",
   "execution_count": 85,
   "metadata": {},
   "outputs": [],
   "source": [
    "def TotalFeatures(data):\n",
    "    X_bop = []\n",
    "    dicts = {}\n",
    "    for i in range(len(data)):\n",
    "        X_train1 = np.asarray(data[i], dtype=object)\n",
    "        X_train2 = X_train1.reshape(1,len(X_train1))\n",
    "        X_bop.append(bop.fit_transform(X_train2))\n",
    "        for j in range(len(list(bop.vocabulary_.values()))):\n",
    "        #print(j)\n",
    "        #print(str(list(bop.vocabulary_.values())[j]))\n",
    "        #print(X_bop[-1][0][j] / sum(X_bop[-1][0]))\n",
    "        #dicts[list(bop.vocabulary_.values())[j]] = X_bop[i][0][j] / sum(X_bop[i][0])\n",
    "            if dicts.get(list(bop.vocabulary_.values())[j]):\n",
    "                dicts[list(bop.vocabulary_.values())[j]] = X_bop[i][0][j] / sum(X_bop[i][0]) + dicts.get(list(bop.vocabulary_.values())[j])\n",
    "            else:\n",
    "                dicts[list(bop.vocabulary_.values())[j]] = X_bop[i][0][j] / sum(X_bop[i][0])\n",
    "    return dicts"
   ]
  },
  {
   "cell_type": "code",
   "execution_count": 25,
   "metadata": {},
   "outputs": [],
   "source": [
    "X_bop = []\n",
    "X_train1 = np.asarray(X_train[0], dtype=object)\n",
    "X_train2 = X_train1.reshape(1,len(X_train1))\n",
    "X_bop.append(bop.fit_transform(X_train2))"
   ]
  },
  {
   "cell_type": "code",
   "execution_count": 210,
   "metadata": {},
   "outputs": [],
   "source": [
    "X_train, X_test, y_train, y_test = train_test_split(li[200:300], category[200:300], test_size=0.2, random_state=102)"
   ]
  },
  {
   "cell_type": "code",
   "execution_count": 212,
   "metadata": {},
   "outputs": [
    {
     "data": {
      "text/plain": [
       "{'baa': 3.177069540132073,\n",
       " 'bab': 2.774975630698902,\n",
       " 'aab': 4.069510621539517,\n",
       " 'abb': 3.1756687701489192,\n",
       " 'aba': 2.8951089179836886,\n",
       " 'bba': 2.4844034322425133,\n",
       " 'aaa': 0.9207029532287351,\n",
       " 'bbb': 0.5025601340256514}"
      ]
     },
     "execution_count": 212,
     "metadata": {},
     "output_type": "execute_result"
    }
   ],
   "source": [
    "TotalFeatures(X_test)"
   ]
  },
  {
   "cell_type": "code",
   "execution_count": 213,
   "metadata": {},
   "outputs": [
    {
     "data": {
      "text/plain": [
       "array([[10.952, 10.645, 10.61, 10.992, 11.09, 10.902000000000001, 11.182,\n",
       "        10.669, 11.139000000000001, 10.198, 10.193, 10.068, 8.669, 9.929,\n",
       "        10.308, 9.956, 10.73, 10.77, 12.107999999999999, 12.286, 12.112,\n",
       "        12.388, 12.431, 11.960999999999999, 11.748, 12.43, 12.587,\n",
       "        12.384, 11.925, 11.504000000000001, 11.370999999999999, 11.05,\n",
       "        10.839, 11.488, 10.593, 10.235, 9.96, 9.959, 9.851, 9.492, 9.427,\n",
       "        8.991, 9.637, 9.981, 10.651, 9.777999999999999, 9.7, 11.157,\n",
       "        10.835999999999999, 10.564, 10.277000000000001,\n",
       "        10.857000000000001, 10.978, 11.035, 11.155999999999999, 11.9,\n",
       "        12.245999999999999, 12.245999999999999, 12.194,\n",
       "        12.524000000000001, 11.118, 11.059000000000001, 11.797, 11.253,\n",
       "        10.877, 10.043, 10.681, 10.597999999999999, 10.665, 10.501,\n",
       "        10.045, 10.514000000000001, 10.002, 10.710999999999999, 10.042,\n",
       "        11.002, 10.775, 10.67, 11.073, 10.913, 11.314, 10.651, 11.193,\n",
       "        10.812000000000001, 10.703, 11.075999999999999, 10.757, 11.001,\n",
       "        11.352, 11.453, 11.497, 10.790999999999999, 11.02,\n",
       "        11.142999999999999, 10.356, 10.515, 10.91, 11.065, 10.993,\n",
       "        11.307, 10.679, 10.802999999999999, 10.453, 10.460999999999999,\n",
       "        10.772, 10.499, 10.623, 10.89, 10.808]], dtype=object)"
      ]
     },
     "execution_count": 213,
     "metadata": {},
     "output_type": "execute_result"
    }
   ],
   "source": [
    "X_train2"
   ]
  },
  {
   "cell_type": "code",
   "execution_count": 17,
   "metadata": {},
   "outputs": [],
   "source": [
    "from sklearn.ensemble import RandomForestClassifier"
   ]
  },
  {
   "cell_type": "code",
   "execution_count": 25,
   "metadata": {},
   "outputs": [],
   "source": [
    "hi = TotalFeatures(li[200:400])"
   ]
  },
  {
   "cell_type": "code",
   "execution_count": 41,
   "metadata": {},
   "outputs": [],
   "source": [
    " X_train5, X_test5, y_train5, y_test5 = train_test_split(li[200:400],category[200:400], test_size=0.33, random_state=42)"
   ]
  },
  {
   "cell_type": "code",
   "execution_count": 27,
   "metadata": {},
   "outputs": [],
   "source": [
    "abc = TotalFeatures(X_train)"
   ]
  },
  {
   "cell_type": "code",
   "execution_count": 30,
   "metadata": {},
   "outputs": [
    {
     "data": {
      "text/html": [
       "<div>\n",
       "<style scoped>\n",
       "    .dataframe tbody tr th:only-of-type {\n",
       "        vertical-align: middle;\n",
       "    }\n",
       "\n",
       "    .dataframe tbody tr th {\n",
       "        vertical-align: top;\n",
       "    }\n",
       "\n",
       "    .dataframe thead th {\n",
       "        text-align: right;\n",
       "    }\n",
       "</style>\n",
       "<table border=\"1\" class=\"dataframe\">\n",
       "  <thead>\n",
       "    <tr style=\"text-align: right;\">\n",
       "      <th></th>\n",
       "      <th>acc_z</th>\n",
       "    </tr>\n",
       "  </thead>\n",
       "  <tbody>\n",
       "    <tr>\n",
       "      <th>0</th>\n",
       "      <td>10.094</td>\n",
       "    </tr>\n",
       "    <tr>\n",
       "      <th>1</th>\n",
       "      <td>10.098</td>\n",
       "    </tr>\n",
       "    <tr>\n",
       "      <th>2</th>\n",
       "      <td>10.341</td>\n",
       "    </tr>\n",
       "    <tr>\n",
       "      <th>3</th>\n",
       "      <td>10.584</td>\n",
       "    </tr>\n",
       "    <tr>\n",
       "      <th>4</th>\n",
       "      <td>10.345</td>\n",
       "    </tr>\n",
       "    <tr>\n",
       "      <th>...</th>\n",
       "      <td>...</td>\n",
       "    </tr>\n",
       "    <tr>\n",
       "      <th>142</th>\n",
       "      <td>10.236</td>\n",
       "    </tr>\n",
       "    <tr>\n",
       "      <th>143</th>\n",
       "      <td>10.193</td>\n",
       "    </tr>\n",
       "    <tr>\n",
       "      <th>144</th>\n",
       "      <td>10.216</td>\n",
       "    </tr>\n",
       "    <tr>\n",
       "      <th>145</th>\n",
       "      <td>9.577</td>\n",
       "    </tr>\n",
       "    <tr>\n",
       "      <th>146</th>\n",
       "      <td>9.643</td>\n",
       "    </tr>\n",
       "  </tbody>\n",
       "</table>\n",
       "<p>147 rows × 1 columns</p>\n",
       "</div>"
      ],
      "text/plain": [
       "      acc_z\n",
       "0    10.094\n",
       "1    10.098\n",
       "2    10.341\n",
       "3    10.584\n",
       "4    10.345\n",
       "..      ...\n",
       "142  10.236\n",
       "143  10.193\n",
       "144  10.216\n",
       "145   9.577\n",
       "146   9.643\n",
       "\n",
       "[147 rows x 1 columns]"
      ]
     },
     "execution_count": 30,
     "metadata": {},
     "output_type": "execute_result"
    }
   ],
   "source": [
    "X_train[0]"
   ]
  },
  {
   "cell_type": "code",
   "execution_count": 31,
   "metadata": {},
   "outputs": [],
   "source": [
    "from sklearn.feature_extraction.text import CountVectorizer"
   ]
  },
  {
   "cell_type": "code",
   "execution_count": 49,
   "metadata": {},
   "outputs": [],
   "source": [
    "bop = BagOfPatterns(window_size=10, word_size=3, n_bins=2,\n",
    "                    numerosity_reduction=False, sparse=False)\n",
    "X_bop = []\n",
    "dicts = {}\n",
    "for i in range(len(X_train5)):\n",
    "        X_train1 = np.asarray(X_train5[i], dtype=object)\n",
    "        X_train2 = X_train1.reshape(1,len(X_train1))\n",
    "        X_bop.append(bop.fit_transform(X_train2))"
   ]
  },
  {
   "cell_type": "code",
   "execution_count": 50,
   "metadata": {},
   "outputs": [
    {
     "data": {
      "text/plain": [
       "[array([[15,  3, 18, 18,  7, 17]], dtype=int64),\n",
       " array([[ 3, 54, 31, 59, 61, 28, 53,  2]], dtype=int64),\n",
       " array([[18,  7, 20, 25,  6, 16]], dtype=int64),\n",
       " array([[ 5, 52, 19, 59, 54, 26, 49,  3]], dtype=int64),\n",
       " array([[ 1, 21,  2, 23, 22,  2, 22]], dtype=int64),\n",
       " array([[ 2, 48, 22, 50, 49, 24, 54,  2]], dtype=int64),\n",
       " array([[ 4, 54, 17, 55, 50, 20, 56,  6]], dtype=int64),\n",
       " array([[27,  3, 24, 24,  3, 21]], dtype=int64),\n",
       " array([[ 5, 75, 33, 58, 71, 31, 64,  4]], dtype=int64),\n",
       " array([[ 3, 74, 25, 65, 49, 22, 50,  2]], dtype=int64),\n",
       " array([[20,  4, 24, 14,  5, 15]], dtype=int64),\n",
       " array([[ 1, 64, 34, 51, 62, 22, 56]], dtype=int64),\n",
       " array([[64, 15, 57, 71, 17, 66]], dtype=int64),\n",
       " array([[ 4, 49, 20, 58, 48, 23, 53,  5]], dtype=int64),\n",
       " array([[11,  4, 14, 15,  6, 18,  1]], dtype=int64),\n",
       " array([[20,  2, 19, 27,  4, 25,  1]], dtype=int64),\n",
       " array([[25,  2, 19, 28,  3, 19]], dtype=int64),\n",
       " array([[45, 11, 65, 45, 27, 63,  1]], dtype=int64),\n",
       " array([[ 1, 55, 25, 60, 55, 22, 58,  1]], dtype=int64),\n",
       " array([[22,  2, 17, 14,  3, 14]], dtype=int64),\n",
       " array([[ 1, 53, 22, 58, 57, 25, 52]], dtype=int64),\n",
       " array([[12,  4, 19, 19,  6, 17]], dtype=int64),\n",
       " array([[61, 20, 57, 55, 22, 51]], dtype=int64),\n",
       " array([[16,  5, 14, 20,  5, 17]], dtype=int64),\n",
       " array([[15,  6, 26, 21,  9, 25,  1]], dtype=int64),\n",
       " array([[ 4, 71, 42, 70, 64, 40, 56,  3]], dtype=int64),\n",
       " array([[60, 24, 70, 49, 29, 59]], dtype=int64),\n",
       " array([[ 1, 25,  4, 27, 21,  4, 21]], dtype=int64),\n",
       " array([[ 1, 18,  6, 25, 27,  6, 27,  1]], dtype=int64),\n",
       " array([[27, 13, 29, 40, 12, 38]], dtype=int64),\n",
       " array([[58, 32, 60, 54, 33, 52]], dtype=int64),\n",
       " array([[21,  1, 29, 23,  2, 23]], dtype=int64),\n",
       " array([[22,  7, 17, 15,  3, 12]], dtype=int64),\n",
       " array([[ 2, 62, 25, 58, 58, 18, 63,  5]], dtype=int64),\n",
       " array([[23,  8, 21, 28,  4, 20]], dtype=int64),\n",
       " array([[34,  9, 29, 18,  9, 14]], dtype=int64),\n",
       " array([[ 8, 53, 21, 49, 53, 23, 49,  5]], dtype=int64),\n",
       " array([[ 9, 56, 33, 73, 60, 36, 71,  5]], dtype=int64),\n",
       " array([[ 3, 65, 22, 70, 65, 30, 64,  1]], dtype=int64),\n",
       " array([[69, 32, 59, 54, 27, 50]], dtype=int64),\n",
       " array([[11,  9, 13, 13,  9, 11]], dtype=int64),\n",
       " array([[17,  4, 21, 17,  5, 27,  1]], dtype=int64),\n",
       " array([[68, 15, 67, 68, 12, 61]], dtype=int64),\n",
       " array([[48, 23, 52, 56, 28, 54,  1]], dtype=int64),\n",
       " array([[59, 19, 68, 61, 23, 58,  1]], dtype=int64),\n",
       " array([[21,  6, 15, 16,  4, 14,  1]], dtype=int64),\n",
       " array([[39, 12, 58, 39, 15, 43]], dtype=int64),\n",
       " array([[ 3, 46, 29, 50, 45, 42, 48,  1]], dtype=int64),\n",
       " array([[ 1, 17,  5, 16, 15,  8, 10]], dtype=int64),\n",
       " array([[ 1, 61, 25, 49, 66, 29, 56,  4]], dtype=int64),\n",
       " array([[26,  4, 24, 26,  4, 20]], dtype=int64),\n",
       " array([[23,  3, 28, 27,  6, 24,  1]], dtype=int64),\n",
       " array([[60, 24, 57, 49, 23, 53,  2]], dtype=int64),\n",
       " array([[19, 10, 25, 24,  8, 22]], dtype=int64),\n",
       " array([[17,  2, 10, 17,  2, 10]], dtype=int64),\n",
       " array([[58, 26, 61, 61, 26, 59]], dtype=int64),\n",
       " array([[ 1, 55, 21, 67, 65, 21, 60,  1]], dtype=int64),\n",
       " array([[ 1, 58, 38, 48, 56, 36, 53,  1]], dtype=int64),\n",
       " array([[24,  3, 25, 18,  3, 22]], dtype=int64),\n",
       " array([[ 1, 26,  9, 34, 32,  9, 26]], dtype=int64),\n",
       " array([[ 1, 48, 13, 55, 46, 19, 48,  1]], dtype=int64),\n",
       " array([[ 4, 58, 19, 71, 58, 21, 59,  1]], dtype=int64),\n",
       " array([[16,  5, 17, 19,  5, 16]], dtype=int64),\n",
       " array([[22,  4, 18, 25,  5, 19]], dtype=int64),\n",
       " array([[ 5, 54, 17, 59, 59, 20, 70,  7]], dtype=int64),\n",
       " array([[20,  8, 19, 26,  6, 33,  1]], dtype=int64),\n",
       " array([[24,  9, 23, 32,  6, 24]], dtype=int64),\n",
       " array([[ 7, 54, 17, 53, 48, 20, 48,  4]], dtype=int64),\n",
       " array([[ 1, 27,  9, 27, 27,  8, 19,  1]], dtype=int64),\n",
       " array([[ 5, 55, 21, 52, 50, 21, 54,  4]], dtype=int64),\n",
       " array([[12,  4, 18, 14,  7, 15]], dtype=int64),\n",
       " array([[ 3, 55, 22, 49, 47, 19, 46,  6]], dtype=int64),\n",
       " array([[ 2, 12,  5, 17, 11,  8, 22,  1]], dtype=int64),\n",
       " array([[50, 38, 46, 51, 27, 44]], dtype=int64),\n",
       " array([[54, 26, 57, 59, 32, 63]], dtype=int64),\n",
       " array([[ 2, 45, 15, 46, 39, 18, 46,  3]], dtype=int64),\n",
       " array([[ 4, 56, 33, 50, 52, 36, 56,  4]], dtype=int64),\n",
       " array([[20, 10, 24, 22, 10, 24,  2]], dtype=int64),\n",
       " array([[ 1, 19,  7, 18, 18,  4, 14]], dtype=int64),\n",
       " array([[ 1, 24,  6, 19, 20,  3, 15]], dtype=int64),\n",
       " array([[15,  7, 15, 17,  8, 25]], dtype=int64),\n",
       " array([[ 4, 55, 31, 52, 58, 26, 59,  1]], dtype=int64),\n",
       " array([[18,  4, 23, 29,  7, 31,  1]], dtype=int64),\n",
       " array([[10,  5, 14, 18,  7, 19]], dtype=int64),\n",
       " array([[ 2, 55, 24, 56, 61, 23, 68,  2]], dtype=int64),\n",
       " array([[ 2, 55, 20, 63, 53, 21, 52,  4]], dtype=int64),\n",
       " array([[19,  1, 19, 15,  2, 16]], dtype=int64),\n",
       " array([[22,  5, 20, 21,  6, 26]], dtype=int64),\n",
       " array([[ 1, 25,  8, 34, 23,  9, 37,  1]], dtype=int64),\n",
       " array([[18,  3, 14, 19,  8, 20]], dtype=int64),\n",
       " array([[ 2, 42, 13, 44, 46, 12, 48]], dtype=int64),\n",
       " array([[ 2, 68, 23, 59, 59, 22, 57,  1]], dtype=int64),\n",
       " array([[ 1, 15,  2, 14, 21,  7, 22]], dtype=int64),\n",
       " array([[34, 10, 32, 28,  9, 24]], dtype=int64),\n",
       " array([[ 2, 51, 19, 60, 60, 17, 61,  3]], dtype=int64),\n",
       " array([[ 4, 46, 22, 40, 46, 18, 41,  2]], dtype=int64),\n",
       " array([[58, 18, 59, 48, 21, 51]], dtype=int64),\n",
       " array([[47, 15, 52, 42, 13, 49,  1]], dtype=int64),\n",
       " array([[15,  4, 16, 16,  5, 12]], dtype=int64),\n",
       " array([[19,  4, 16, 29,  7, 28]], dtype=int64),\n",
       " array([[ 3, 53, 18, 48, 41, 17, 43,  1]], dtype=int64),\n",
       " array([[29,  6, 24, 22,  2, 16,  1]], dtype=int64),\n",
       " array([[ 3, 44, 20, 48, 42, 22, 45,  5]], dtype=int64),\n",
       " array([[25,  4, 10, 23,  4, 12]], dtype=int64),\n",
       " array([[16,  4, 27, 17,  8, 27]], dtype=int64),\n",
       " array([[ 2, 22,  7, 15, 28,  5, 21,  3]], dtype=int64),\n",
       " array([[20,  5, 16, 17,  7, 21]], dtype=int64),\n",
       " array([[ 2, 28,  7, 27, 21,  9, 21,  1]], dtype=int64),\n",
       " array([[ 1, 60, 22, 58, 57, 17, 61,  1]], dtype=int64),\n",
       " array([[42, 14, 50, 41, 15, 46,  1]], dtype=int64),\n",
       " array([[57, 24, 57, 64, 22, 64]], dtype=int64),\n",
       " array([[12,  8, 12, 20,  5, 21]], dtype=int64),\n",
       " array([[ 1, 67, 25, 59, 51, 24, 61,  4]], dtype=int64),\n",
       " array([[ 1, 46, 15, 50, 48, 17, 45]], dtype=int64),\n",
       " array([[10,  1, 10, 17,  2, 20]], dtype=int64),\n",
       " array([[12,  6, 19, 15,  7, 17]], dtype=int64),\n",
       " array([[ 2, 58, 22, 56, 68, 24, 55,  4]], dtype=int64),\n",
       " array([[64, 21, 71, 58, 19, 58]], dtype=int64),\n",
       " array([[39, 11, 39, 42, 13, 54,  1]], dtype=int64),\n",
       " array([[ 1, 60, 26, 60, 57, 24, 57,  2]], dtype=int64),\n",
       " array([[17,  2, 15, 18,  3, 18]], dtype=int64),\n",
       " array([[ 2, 75, 45, 72, 75, 34, 60]], dtype=int64),\n",
       " array([[14,  5, 14, 22,  3, 18]], dtype=int64),\n",
       " array([[17,  6, 14, 19,  5, 16]], dtype=int64),\n",
       " array([[ 5, 64, 34, 65, 58, 37, 73,  4]], dtype=int64),\n",
       " array([[75, 35, 75, 75, 35, 70]], dtype=int64),\n",
       " array([[22,  3, 16, 16,  3, 12]], dtype=int64),\n",
       " array([[ 3, 53, 38, 52, 51, 38, 54,  3]], dtype=int64),\n",
       " array([[17,  8, 18, 25,  5, 13,  1]], dtype=int64),\n",
       " array([[ 2, 62, 18, 69, 55, 24, 61]], dtype=int64),\n",
       " array([[14,  3, 17, 15,  2, 16]], dtype=int64),\n",
       " array([[14,  5, 14, 16,  4, 11,  1]], dtype=int64),\n",
       " array([[ 2, 53, 23, 46, 57, 24, 57,  6]], dtype=int64),\n",
       " array([[ 4, 51, 12, 54, 52, 16, 38,  4]], dtype=int64)]"
      ]
     },
     "execution_count": 50,
     "metadata": {},
     "output_type": "execute_result"
    }
   ],
   "source": [
    "X_bop"
   ]
  },
  {
   "cell_type": "markdown",
   "metadata": {},
   "source": [
    "# Function to Properly Arrange Data"
   ]
  },
  {
   "cell_type": "code",
   "execution_count": 86,
   "metadata": {},
   "outputs": [],
   "source": [
    "def CreateFeatures(data):\n",
    "    X_bop = []\n",
    "    dicts = {}\n",
    "    for i in range(len(data)):\n",
    "        X_train1 = np.asarray(data[i], dtype=object)\n",
    "        X_train2 = X_train1.reshape(1,len(X_train1))\n",
    "        X_bop.append(bop.fit_transform(X_train2))\n",
    "        dicts[i] = {}\n",
    "        for j in range(len(list(bop.vocabulary_.values()))):\n",
    "            dicts[i][list(bop.vocabulary_.values())[j]] = X_bop[i][0][j] / sum(X_bop[i][0]) * 100\n",
    "    return dicts"
   ]
  },
  {
   "cell_type": "code",
   "execution_count": 10,
   "metadata": {},
   "outputs": [],
   "source": [
    "new_data = CreateFeatures(X_train)"
   ]
  },
  {
   "cell_type": "code",
   "execution_count": 87,
   "metadata": {},
   "outputs": [],
   "source": [
    "def TransformTrain(X,y):\n",
    "    new_data = CreateFeatures(X)\n",
    "    df = pd.DataFrame(new_data.values())\n",
    "    df[\"type\"] = y\n",
    "    df = df.fillna(0)\n",
    "    return df"
   ]
  },
  {
   "cell_type": "code",
   "execution_count": 88,
   "metadata": {},
   "outputs": [],
   "source": [
    "def TransformTest(X):\n",
    "    new_data = CreateFeatures(X)\n",
    "    df = pd.DataFrame(new_data.values())\n",
    "    df = df.fillna(0)\n",
    "    return df"
   ]
  },
  {
   "cell_type": "code",
   "execution_count": 46,
   "metadata": {},
   "outputs": [
    {
     "data": {
      "text/plain": [
       "dict_keys([0, 1, 2, 3, 4, 5, 6, 7, 8, 9, 10, 11, 12, 13, 14, 15, 16, 17, 18, 19, 20, 21, 22, 23, 24, 25, 26, 27, 28, 29, 30, 31, 32, 33, 34, 35, 36, 37, 38, 39, 40, 41, 42, 43, 44, 45, 46, 47, 48, 49, 50, 51, 52, 53, 54, 55, 56, 57, 58, 59, 60, 61, 62, 63, 64, 65, 66, 67, 68, 69, 70, 71, 72, 73, 74, 75, 76, 77, 78, 79, 80, 81, 82, 83, 84, 85, 86, 87, 88, 89, 90, 91, 92, 93, 94, 95, 96, 97, 98, 99, 100, 101, 102, 103, 104, 105, 106, 107, 108, 109, 110, 111, 112, 113, 114, 115, 116, 117, 118, 119, 120, 121, 122, 123, 124, 125, 126, 127, 128, 129, 130, 131, 132, 133, 134, 135, 136, 137, 138, 139, 140, 141, 142, 143, 144, 145, 146, 147, 148, 149])"
      ]
     },
     "execution_count": 46,
     "metadata": {},
     "output_type": "execute_result"
    }
   ],
   "source": [
    "new_data.keys()"
   ]
  },
  {
   "cell_type": "code",
   "execution_count": 17,
   "metadata": {},
   "outputs": [],
   "source": [
    "df = pd.DataFrame(new_data.values())"
   ]
  },
  {
   "cell_type": "code",
   "execution_count": 13,
   "metadata": {},
   "outputs": [],
   "source": [
    "df[\"type\"] = y_train"
   ]
  },
  {
   "cell_type": "code",
   "execution_count": 14,
   "metadata": {},
   "outputs": [
    {
     "data": {
      "text/plain": [
       "79"
      ]
     },
     "execution_count": 14,
     "metadata": {},
     "output_type": "execute_result"
    }
   ],
   "source": [
    "sum(df[\"type\"]==3)"
   ]
  },
  {
   "cell_type": "code",
   "execution_count": 125,
   "metadata": {},
   "outputs": [],
   "source": [
    "df = df.fillna(0)"
   ]
  },
  {
   "cell_type": "code",
   "execution_count": 126,
   "metadata": {},
   "outputs": [
    {
     "data": {
      "text/html": [
       "<div>\n",
       "<style scoped>\n",
       "    .dataframe tbody tr th:only-of-type {\n",
       "        vertical-align: middle;\n",
       "    }\n",
       "\n",
       "    .dataframe tbody tr th {\n",
       "        vertical-align: top;\n",
       "    }\n",
       "\n",
       "    .dataframe thead th {\n",
       "        text-align: right;\n",
       "    }\n",
       "</style>\n",
       "<table border=\"1\" class=\"dataframe\">\n",
       "  <thead>\n",
       "    <tr style=\"text-align: right;\">\n",
       "      <th></th>\n",
       "      <th>bba</th>\n",
       "      <th>baa</th>\n",
       "      <th>bab</th>\n",
       "      <th>aba</th>\n",
       "      <th>aab</th>\n",
       "      <th>abb</th>\n",
       "      <th>aaa</th>\n",
       "      <th>bbb</th>\n",
       "      <th>type</th>\n",
       "    </tr>\n",
       "  </thead>\n",
       "  <tbody>\n",
       "    <tr>\n",
       "      <th>0</th>\n",
       "      <td>0.724638</td>\n",
       "      <td>18.115942</td>\n",
       "      <td>5.797101</td>\n",
       "      <td>24.637681</td>\n",
       "      <td>16.666667</td>\n",
       "      <td>6.521739</td>\n",
       "      <td>26.811594</td>\n",
       "      <td>0.724638</td>\n",
       "      <td>3</td>\n",
       "    </tr>\n",
       "    <tr>\n",
       "      <th>1</th>\n",
       "      <td>17.857143</td>\n",
       "      <td>8.928571</td>\n",
       "      <td>21.428571</td>\n",
       "      <td>21.428571</td>\n",
       "      <td>19.642857</td>\n",
       "      <td>8.928571</td>\n",
       "      <td>0.000000</td>\n",
       "      <td>1.785714</td>\n",
       "      <td>3</td>\n",
       "    </tr>\n",
       "    <tr>\n",
       "      <th>2</th>\n",
       "      <td>5.714286</td>\n",
       "      <td>19.047619</td>\n",
       "      <td>20.952381</td>\n",
       "      <td>24.285714</td>\n",
       "      <td>7.142857</td>\n",
       "      <td>21.904762</td>\n",
       "      <td>0.000000</td>\n",
       "      <td>0.952381</td>\n",
       "      <td>4</td>\n",
       "    </tr>\n",
       "    <tr>\n",
       "      <th>3</th>\n",
       "      <td>3.960396</td>\n",
       "      <td>20.792079</td>\n",
       "      <td>23.762376</td>\n",
       "      <td>18.811881</td>\n",
       "      <td>4.950495</td>\n",
       "      <td>27.722772</td>\n",
       "      <td>0.000000</td>\n",
       "      <td>0.000000</td>\n",
       "      <td>3</td>\n",
       "    </tr>\n",
       "    <tr>\n",
       "      <th>4</th>\n",
       "      <td>0.432900</td>\n",
       "      <td>20.779221</td>\n",
       "      <td>5.627706</td>\n",
       "      <td>20.779221</td>\n",
       "      <td>8.225108</td>\n",
       "      <td>23.809524</td>\n",
       "      <td>19.913420</td>\n",
       "      <td>0.432900</td>\n",
       "      <td>4</td>\n",
       "    </tr>\n",
       "    <tr>\n",
       "      <th>...</th>\n",
       "      <td>...</td>\n",
       "      <td>...</td>\n",
       "      <td>...</td>\n",
       "      <td>...</td>\n",
       "      <td>...</td>\n",
       "      <td>...</td>\n",
       "      <td>...</td>\n",
       "      <td>...</td>\n",
       "      <td>...</td>\n",
       "    </tr>\n",
       "    <tr>\n",
       "      <th>145</th>\n",
       "      <td>23.076923</td>\n",
       "      <td>8.974359</td>\n",
       "      <td>21.794872</td>\n",
       "      <td>23.076923</td>\n",
       "      <td>19.230769</td>\n",
       "      <td>3.846154</td>\n",
       "      <td>0.000000</td>\n",
       "      <td>0.000000</td>\n",
       "      <td>3</td>\n",
       "    </tr>\n",
       "    <tr>\n",
       "      <th>146</th>\n",
       "      <td>2.970297</td>\n",
       "      <td>28.712871</td>\n",
       "      <td>5.940594</td>\n",
       "      <td>13.861386</td>\n",
       "      <td>24.752475</td>\n",
       "      <td>23.762376</td>\n",
       "      <td>0.000000</td>\n",
       "      <td>0.000000</td>\n",
       "      <td>3</td>\n",
       "    </tr>\n",
       "    <tr>\n",
       "      <th>147</th>\n",
       "      <td>21.590909</td>\n",
       "      <td>5.681818</td>\n",
       "      <td>21.590909</td>\n",
       "      <td>5.681818</td>\n",
       "      <td>21.590909</td>\n",
       "      <td>23.863636</td>\n",
       "      <td>0.000000</td>\n",
       "      <td>0.000000</td>\n",
       "      <td>3</td>\n",
       "    </tr>\n",
       "    <tr>\n",
       "      <th>148</th>\n",
       "      <td>22.267206</td>\n",
       "      <td>8.906883</td>\n",
       "      <td>19.838057</td>\n",
       "      <td>1.214575</td>\n",
       "      <td>19.028340</td>\n",
       "      <td>7.692308</td>\n",
       "      <td>2.429150</td>\n",
       "      <td>18.623482</td>\n",
       "      <td>4</td>\n",
       "    </tr>\n",
       "    <tr>\n",
       "      <th>149</th>\n",
       "      <td>17.073171</td>\n",
       "      <td>6.097561</td>\n",
       "      <td>18.292683</td>\n",
       "      <td>29.268293</td>\n",
       "      <td>24.390244</td>\n",
       "      <td>4.878049</td>\n",
       "      <td>0.000000</td>\n",
       "      <td>0.000000</td>\n",
       "      <td>3</td>\n",
       "    </tr>\n",
       "  </tbody>\n",
       "</table>\n",
       "<p>150 rows × 9 columns</p>\n",
       "</div>"
      ],
      "text/plain": [
       "           bba        baa        bab        aba        aab        abb  \\\n",
       "0     0.724638  18.115942   5.797101  24.637681  16.666667   6.521739   \n",
       "1    17.857143   8.928571  21.428571  21.428571  19.642857   8.928571   \n",
       "2     5.714286  19.047619  20.952381  24.285714   7.142857  21.904762   \n",
       "3     3.960396  20.792079  23.762376  18.811881   4.950495  27.722772   \n",
       "4     0.432900  20.779221   5.627706  20.779221   8.225108  23.809524   \n",
       "..         ...        ...        ...        ...        ...        ...   \n",
       "145  23.076923   8.974359  21.794872  23.076923  19.230769   3.846154   \n",
       "146   2.970297  28.712871   5.940594  13.861386  24.752475  23.762376   \n",
       "147  21.590909   5.681818  21.590909   5.681818  21.590909  23.863636   \n",
       "148  22.267206   8.906883  19.838057   1.214575  19.028340   7.692308   \n",
       "149  17.073171   6.097561  18.292683  29.268293  24.390244   4.878049   \n",
       "\n",
       "           aaa        bbb  type  \n",
       "0    26.811594   0.724638     3  \n",
       "1     0.000000   1.785714     3  \n",
       "2     0.000000   0.952381     4  \n",
       "3     0.000000   0.000000     3  \n",
       "4    19.913420   0.432900     4  \n",
       "..         ...        ...   ...  \n",
       "145   0.000000   0.000000     3  \n",
       "146   0.000000   0.000000     3  \n",
       "147   0.000000   0.000000     3  \n",
       "148   2.429150  18.623482     4  \n",
       "149   0.000000   0.000000     3  \n",
       "\n",
       "[150 rows x 9 columns]"
      ]
     },
     "execution_count": 126,
     "metadata": {},
     "output_type": "execute_result"
    }
   ],
   "source": [
    "df"
   ]
  },
  {
   "cell_type": "code",
   "execution_count": 128,
   "metadata": {},
   "outputs": [],
   "source": [
    "test = CreateFeatures(X_test)"
   ]
  },
  {
   "cell_type": "code",
   "execution_count": 129,
   "metadata": {},
   "outputs": [],
   "source": [
    "df1 = pd.DataFrame(test.values())"
   ]
  },
  {
   "cell_type": "code",
   "execution_count": 130,
   "metadata": {},
   "outputs": [],
   "source": [
    "df1 = df1.fillna(0)"
   ]
  },
  {
   "cell_type": "markdown",
   "metadata": {},
   "source": [
    "# Implement Random Forest"
   ]
  },
  {
   "cell_type": "code",
   "execution_count": 89,
   "metadata": {},
   "outputs": [
    {
     "ename": "KeyError",
     "evalue": "\"['type'] not found in axis\"",
     "output_type": "error",
     "traceback": [
      "\u001b[1;31m---------------------------------------------------------------------------\u001b[0m",
      "\u001b[1;31mKeyError\u001b[0m                                  Traceback (most recent call last)",
      "\u001b[1;32m<ipython-input-89-9979fdbf40ab>\u001b[0m in \u001b[0;36m<module>\u001b[1;34m\u001b[0m\n\u001b[1;32m----> 1\u001b[1;33m \u001b[0mX_train_rf\u001b[0m \u001b[1;33m=\u001b[0m \u001b[0mdf\u001b[0m\u001b[1;33m.\u001b[0m\u001b[0mdrop\u001b[0m\u001b[1;33m(\u001b[0m\u001b[1;34m\"type\"\u001b[0m\u001b[1;33m,\u001b[0m\u001b[0maxis\u001b[0m\u001b[1;33m=\u001b[0m\u001b[1;36m1\u001b[0m\u001b[1;33m)\u001b[0m\u001b[1;33m\u001b[0m\u001b[1;33m\u001b[0m\u001b[0m\n\u001b[0m",
      "\u001b[1;32m~\\anaconda3\\lib\\site-packages\\pandas\\core\\frame.py\u001b[0m in \u001b[0;36mdrop\u001b[1;34m(self, labels, axis, index, columns, level, inplace, errors)\u001b[0m\n\u001b[0;32m   3988\u001b[0m                 \u001b[0mweight\u001b[0m  \u001b[1;36m1.0\u001b[0m     \u001b[1;36m0.8\u001b[0m\u001b[1;33m\u001b[0m\u001b[1;33m\u001b[0m\u001b[0m\n\u001b[0;32m   3989\u001b[0m         \"\"\"\n\u001b[1;32m-> 3990\u001b[1;33m         return super().drop(\n\u001b[0m\u001b[0;32m   3991\u001b[0m             \u001b[0mlabels\u001b[0m\u001b[1;33m=\u001b[0m\u001b[0mlabels\u001b[0m\u001b[1;33m,\u001b[0m\u001b[1;33m\u001b[0m\u001b[1;33m\u001b[0m\u001b[0m\n\u001b[0;32m   3992\u001b[0m             \u001b[0maxis\u001b[0m\u001b[1;33m=\u001b[0m\u001b[0maxis\u001b[0m\u001b[1;33m,\u001b[0m\u001b[1;33m\u001b[0m\u001b[1;33m\u001b[0m\u001b[0m\n",
      "\u001b[1;32m~\\anaconda3\\lib\\site-packages\\pandas\\core\\generic.py\u001b[0m in \u001b[0;36mdrop\u001b[1;34m(self, labels, axis, index, columns, level, inplace, errors)\u001b[0m\n\u001b[0;32m   3934\u001b[0m         \u001b[1;32mfor\u001b[0m \u001b[0maxis\u001b[0m\u001b[1;33m,\u001b[0m \u001b[0mlabels\u001b[0m \u001b[1;32min\u001b[0m \u001b[0maxes\u001b[0m\u001b[1;33m.\u001b[0m\u001b[0mitems\u001b[0m\u001b[1;33m(\u001b[0m\u001b[1;33m)\u001b[0m\u001b[1;33m:\u001b[0m\u001b[1;33m\u001b[0m\u001b[1;33m\u001b[0m\u001b[0m\n\u001b[0;32m   3935\u001b[0m             \u001b[1;32mif\u001b[0m \u001b[0mlabels\u001b[0m \u001b[1;32mis\u001b[0m \u001b[1;32mnot\u001b[0m \u001b[1;32mNone\u001b[0m\u001b[1;33m:\u001b[0m\u001b[1;33m\u001b[0m\u001b[1;33m\u001b[0m\u001b[0m\n\u001b[1;32m-> 3936\u001b[1;33m                 \u001b[0mobj\u001b[0m \u001b[1;33m=\u001b[0m \u001b[0mobj\u001b[0m\u001b[1;33m.\u001b[0m\u001b[0m_drop_axis\u001b[0m\u001b[1;33m(\u001b[0m\u001b[0mlabels\u001b[0m\u001b[1;33m,\u001b[0m \u001b[0maxis\u001b[0m\u001b[1;33m,\u001b[0m \u001b[0mlevel\u001b[0m\u001b[1;33m=\u001b[0m\u001b[0mlevel\u001b[0m\u001b[1;33m,\u001b[0m \u001b[0merrors\u001b[0m\u001b[1;33m=\u001b[0m\u001b[0merrors\u001b[0m\u001b[1;33m)\u001b[0m\u001b[1;33m\u001b[0m\u001b[1;33m\u001b[0m\u001b[0m\n\u001b[0m\u001b[0;32m   3937\u001b[0m \u001b[1;33m\u001b[0m\u001b[0m\n\u001b[0;32m   3938\u001b[0m         \u001b[1;32mif\u001b[0m \u001b[0minplace\u001b[0m\u001b[1;33m:\u001b[0m\u001b[1;33m\u001b[0m\u001b[1;33m\u001b[0m\u001b[0m\n",
      "\u001b[1;32m~\\anaconda3\\lib\\site-packages\\pandas\\core\\generic.py\u001b[0m in \u001b[0;36m_drop_axis\u001b[1;34m(self, labels, axis, level, errors)\u001b[0m\n\u001b[0;32m   3968\u001b[0m                 \u001b[0mnew_axis\u001b[0m \u001b[1;33m=\u001b[0m \u001b[0maxis\u001b[0m\u001b[1;33m.\u001b[0m\u001b[0mdrop\u001b[0m\u001b[1;33m(\u001b[0m\u001b[0mlabels\u001b[0m\u001b[1;33m,\u001b[0m \u001b[0mlevel\u001b[0m\u001b[1;33m=\u001b[0m\u001b[0mlevel\u001b[0m\u001b[1;33m,\u001b[0m \u001b[0merrors\u001b[0m\u001b[1;33m=\u001b[0m\u001b[0merrors\u001b[0m\u001b[1;33m)\u001b[0m\u001b[1;33m\u001b[0m\u001b[1;33m\u001b[0m\u001b[0m\n\u001b[0;32m   3969\u001b[0m             \u001b[1;32melse\u001b[0m\u001b[1;33m:\u001b[0m\u001b[1;33m\u001b[0m\u001b[1;33m\u001b[0m\u001b[0m\n\u001b[1;32m-> 3970\u001b[1;33m                 \u001b[0mnew_axis\u001b[0m \u001b[1;33m=\u001b[0m \u001b[0maxis\u001b[0m\u001b[1;33m.\u001b[0m\u001b[0mdrop\u001b[0m\u001b[1;33m(\u001b[0m\u001b[0mlabels\u001b[0m\u001b[1;33m,\u001b[0m \u001b[0merrors\u001b[0m\u001b[1;33m=\u001b[0m\u001b[0merrors\u001b[0m\u001b[1;33m)\u001b[0m\u001b[1;33m\u001b[0m\u001b[1;33m\u001b[0m\u001b[0m\n\u001b[0m\u001b[0;32m   3971\u001b[0m             \u001b[0mresult\u001b[0m \u001b[1;33m=\u001b[0m \u001b[0mself\u001b[0m\u001b[1;33m.\u001b[0m\u001b[0mreindex\u001b[0m\u001b[1;33m(\u001b[0m\u001b[1;33m**\u001b[0m\u001b[1;33m{\u001b[0m\u001b[0maxis_name\u001b[0m\u001b[1;33m:\u001b[0m \u001b[0mnew_axis\u001b[0m\u001b[1;33m}\u001b[0m\u001b[1;33m)\u001b[0m\u001b[1;33m\u001b[0m\u001b[1;33m\u001b[0m\u001b[0m\n\u001b[0;32m   3972\u001b[0m \u001b[1;33m\u001b[0m\u001b[0m\n",
      "\u001b[1;32m~\\anaconda3\\lib\\site-packages\\pandas\\core\\indexes\\base.py\u001b[0m in \u001b[0;36mdrop\u001b[1;34m(self, labels, errors)\u001b[0m\n\u001b[0;32m   5016\u001b[0m         \u001b[1;32mif\u001b[0m \u001b[0mmask\u001b[0m\u001b[1;33m.\u001b[0m\u001b[0many\u001b[0m\u001b[1;33m(\u001b[0m\u001b[1;33m)\u001b[0m\u001b[1;33m:\u001b[0m\u001b[1;33m\u001b[0m\u001b[1;33m\u001b[0m\u001b[0m\n\u001b[0;32m   5017\u001b[0m             \u001b[1;32mif\u001b[0m \u001b[0merrors\u001b[0m \u001b[1;33m!=\u001b[0m \u001b[1;34m\"ignore\"\u001b[0m\u001b[1;33m:\u001b[0m\u001b[1;33m\u001b[0m\u001b[1;33m\u001b[0m\u001b[0m\n\u001b[1;32m-> 5018\u001b[1;33m                 \u001b[1;32mraise\u001b[0m \u001b[0mKeyError\u001b[0m\u001b[1;33m(\u001b[0m\u001b[1;34mf\"{labels[mask]} not found in axis\"\u001b[0m\u001b[1;33m)\u001b[0m\u001b[1;33m\u001b[0m\u001b[1;33m\u001b[0m\u001b[0m\n\u001b[0m\u001b[0;32m   5019\u001b[0m             \u001b[0mindexer\u001b[0m \u001b[1;33m=\u001b[0m \u001b[0mindexer\u001b[0m\u001b[1;33m[\u001b[0m\u001b[1;33m~\u001b[0m\u001b[0mmask\u001b[0m\u001b[1;33m]\u001b[0m\u001b[1;33m\u001b[0m\u001b[1;33m\u001b[0m\u001b[0m\n\u001b[0;32m   5020\u001b[0m         \u001b[1;32mreturn\u001b[0m \u001b[0mself\u001b[0m\u001b[1;33m.\u001b[0m\u001b[0mdelete\u001b[0m\u001b[1;33m(\u001b[0m\u001b[0mindexer\u001b[0m\u001b[1;33m)\u001b[0m\u001b[1;33m\u001b[0m\u001b[1;33m\u001b[0m\u001b[0m\n",
      "\u001b[1;31mKeyError\u001b[0m: \"['type'] not found in axis\""
     ]
    }
   ],
   "source": [
    "X_train_rf = df.drop(\"type\",axis=1)"
   ]
  },
  {
   "cell_type": "code",
   "execution_count": 133,
   "metadata": {},
   "outputs": [],
   "source": [
    "y_train_rf = df[\"type\"]"
   ]
  },
  {
   "cell_type": "code",
   "execution_count": 134,
   "metadata": {},
   "outputs": [
    {
     "data": {
      "text/plain": [
       "RandomForestClassifier()"
      ]
     },
     "execution_count": 134,
     "metadata": {},
     "output_type": "execute_result"
    }
   ],
   "source": [
    "from sklearn.ensemble import RandomForestClassifier\n",
    "rfc = RandomForestClassifier(n_estimators=100)\n",
    "rfc.fit(X_train_rf, y_train_rf)"
   ]
  },
  {
   "cell_type": "code",
   "execution_count": 135,
   "metadata": {},
   "outputs": [],
   "source": [
    "pred = rfc.predict(df1)"
   ]
  },
  {
   "cell_type": "code",
   "execution_count": 136,
   "metadata": {},
   "outputs": [],
   "source": [
    "count = 0\n",
    "for i in range(len(pred)):\n",
    "    if pred[i] != y_test[i]:\n",
    "        count+=1"
   ]
  },
  {
   "cell_type": "code",
   "execution_count": 92,
   "metadata": {},
   "outputs": [
    {
     "data": {
      "text/plain": [
       "8"
      ]
     },
     "execution_count": 92,
     "metadata": {},
     "output_type": "execute_result"
    }
   ],
   "source": [
    "count"
   ]
  },
  {
   "cell_type": "code",
   "execution_count": 21,
   "metadata": {},
   "outputs": [],
   "source": [
    "from sklearn.metrics import classification_report, confusion_matrix"
   ]
  },
  {
   "cell_type": "code",
   "execution_count": 94,
   "metadata": {},
   "outputs": [
    {
     "name": "stdout",
     "output_type": "stream",
     "text": [
      "[[25  2]\n",
      " [ 6 17]]\n"
     ]
    }
   ],
   "source": [
    "print(confusion_matrix(y_test,pred))"
   ]
  },
  {
   "cell_type": "code",
   "execution_count": 95,
   "metadata": {},
   "outputs": [
    {
     "name": "stdout",
     "output_type": "stream",
     "text": [
      "              precision    recall  f1-score   support\n",
      "\n",
      "           3       0.81      0.93      0.86        27\n",
      "           4       0.89      0.74      0.81        23\n",
      "\n",
      "    accuracy                           0.84        50\n",
      "   macro avg       0.85      0.83      0.84        50\n",
      "weighted avg       0.85      0.84      0.84        50\n",
      "\n"
     ]
    }
   ],
   "source": [
    "print(classification_report(y_test,pred))"
   ]
  },
  {
   "cell_type": "code",
   "execution_count": 115,
   "metadata": {},
   "outputs": [
    {
     "name": "stdout",
     "output_type": "stream",
     "text": [
      "[[14 12]\n",
      " [ 1 23]]\n"
     ]
    }
   ],
   "source": [
    "print(confusion_matrix(y_test,pred))"
   ]
  },
  {
   "cell_type": "code",
   "execution_count": 116,
   "metadata": {},
   "outputs": [
    {
     "name": "stdout",
     "output_type": "stream",
     "text": [
      "              precision    recall  f1-score   support\n",
      "\n",
      "           3       0.93      0.54      0.68        26\n",
      "           4       0.66      0.96      0.78        24\n",
      "\n",
      "    accuracy                           0.74        50\n",
      "   macro avg       0.80      0.75      0.73        50\n",
      "weighted avg       0.80      0.74      0.73        50\n",
      "\n"
     ]
    }
   ],
   "source": [
    "print(classification_report(y_test,pred))"
   ]
  },
  {
   "cell_type": "code",
   "execution_count": 117,
   "metadata": {},
   "outputs": [
    {
     "data": {
      "text/plain": [
       "13"
      ]
     },
     "execution_count": 117,
     "metadata": {},
     "output_type": "execute_result"
    }
   ],
   "source": [
    "count"
   ]
  },
  {
   "cell_type": "markdown",
   "metadata": {},
   "source": [
    "# 3rd Seed"
   ]
  },
  {
   "cell_type": "code",
   "execution_count": 137,
   "metadata": {},
   "outputs": [
    {
     "data": {
      "text/plain": [
       "7"
      ]
     },
     "execution_count": 137,
     "metadata": {},
     "output_type": "execute_result"
    }
   ],
   "source": [
    "count"
   ]
  },
  {
   "cell_type": "code",
   "execution_count": 138,
   "metadata": {},
   "outputs": [
    {
     "name": "stdout",
     "output_type": "stream",
     "text": [
      "[[20  1]\n",
      " [ 6 23]]\n"
     ]
    }
   ],
   "source": [
    "print(confusion_matrix(y_test,pred))"
   ]
  },
  {
   "cell_type": "code",
   "execution_count": 139,
   "metadata": {},
   "outputs": [
    {
     "name": "stdout",
     "output_type": "stream",
     "text": [
      "              precision    recall  f1-score   support\n",
      "\n",
      "           3       0.77      0.95      0.85        21\n",
      "           4       0.96      0.79      0.87        29\n",
      "\n",
      "    accuracy                           0.86        50\n",
      "   macro avg       0.86      0.87      0.86        50\n",
      "weighted avg       0.88      0.86      0.86        50\n",
      "\n"
     ]
    }
   ],
   "source": [
    "print(classification_report(y_test,pred))"
   ]
  },
  {
   "cell_type": "markdown",
   "metadata": {},
   "source": [
    "# Newly Created Functions"
   ]
  },
  {
   "cell_type": "code",
   "execution_count": 90,
   "metadata": {},
   "outputs": [],
   "source": [
    "def TransformTrain(X,y):\n",
    "    new_data = CreateFeatures(X)\n",
    "    df = pd.DataFrame(new_data.values())\n",
    "    df[\"type\"] = y\n",
    "    df = df.fillna(0)\n",
    "    return df"
   ]
  },
  {
   "cell_type": "code",
   "execution_count": 91,
   "metadata": {},
   "outputs": [],
   "source": [
    "def TransformTest(X):\n",
    "    new_data = CreateFeatures(X)\n",
    "    df = pd.DataFrame(new_data.values())\n",
    "    df = df.fillna(0)\n",
    "    return df"
   ]
  },
  {
   "cell_type": "code",
   "execution_count": 92,
   "metadata": {},
   "outputs": [],
   "source": [
    "df_train = TransformTrain(X_train, y_train)\n",
    "df_test = TransformTest(X_test)"
   ]
  },
  {
   "cell_type": "code",
   "execution_count": 93,
   "metadata": {},
   "outputs": [],
   "source": [
    "X_train_rf = df_train.drop(\"type\",axis=1)"
   ]
  },
  {
   "cell_type": "code",
   "execution_count": 94,
   "metadata": {},
   "outputs": [],
   "source": [
    "y_train_rf = df_train[\"type\"]"
   ]
  },
  {
   "cell_type": "code",
   "execution_count": 95,
   "metadata": {},
   "outputs": [
    {
     "data": {
      "text/plain": [
       "RandomForestClassifier()"
      ]
     },
     "execution_count": 95,
     "metadata": {},
     "output_type": "execute_result"
    }
   ],
   "source": [
    "from sklearn.ensemble import RandomForestClassifier\n",
    "rfc = RandomForestClassifier(n_estimators=100)\n",
    "rfc.fit(X_train_rf, y_train_rf)"
   ]
  },
  {
   "cell_type": "code",
   "execution_count": 96,
   "metadata": {},
   "outputs": [],
   "source": [
    "pred = rfc.predict(df_test)"
   ]
  },
  {
   "cell_type": "code",
   "execution_count": 97,
   "metadata": {},
   "outputs": [
    {
     "name": "stdout",
     "output_type": "stream",
     "text": [
      "              precision    recall  f1-score   support\n",
      "\n",
      "           3       0.73      0.52      0.61        21\n",
      "           4       0.71      0.86      0.78        29\n",
      "\n",
      "    accuracy                           0.72        50\n",
      "   macro avg       0.72      0.69      0.70        50\n",
      "weighted avg       0.72      0.72      0.71        50\n",
      "\n"
     ]
    }
   ],
   "source": [
    "print(classification_report(y_test,pred))"
   ]
  },
  {
   "cell_type": "markdown",
   "metadata": {},
   "source": [
    "# Decision Tree"
   ]
  },
  {
   "cell_type": "code",
   "execution_count": 83,
   "metadata": {},
   "outputs": [
    {
     "data": {
      "text/plain": [
       "DecisionTreeClassifier()"
      ]
     },
     "execution_count": 83,
     "metadata": {},
     "output_type": "execute_result"
    }
   ],
   "source": [
    "from sklearn.tree import DecisionTreeClassifier\n",
    "dt = DecisionTreeClassifier()\n",
    "dt.fit(X_train_rf, y_train_rf)"
   ]
  },
  {
   "cell_type": "code",
   "execution_count": 84,
   "metadata": {},
   "outputs": [],
   "source": [
    "predTr = dt.predict(df_test)"
   ]
  },
  {
   "cell_type": "code",
   "execution_count": 85,
   "metadata": {},
   "outputs": [
    {
     "name": "stdout",
     "output_type": "stream",
     "text": [
      "              precision    recall  f1-score   support\n",
      "\n",
      "           3       0.67      0.29      0.40        21\n",
      "           4       0.63      0.90      0.74        29\n",
      "\n",
      "    accuracy                           0.64        50\n",
      "   macro avg       0.65      0.59      0.57        50\n",
      "weighted avg       0.65      0.64      0.60        50\n",
      "\n"
     ]
    }
   ],
   "source": [
    "print(classification_report(y_test, predTr))"
   ]
  },
  {
   "cell_type": "markdown",
   "metadata": {},
   "source": [
    "# KNN"
   ]
  },
  {
   "cell_type": "code",
   "execution_count": 71,
   "metadata": {},
   "outputs": [],
   "source": [
    "from sklearn.neighbors import KNeighborsClassifier"
   ]
  },
  {
   "cell_type": "code",
   "execution_count": 86,
   "metadata": {},
   "outputs": [],
   "source": [
    "knn = KNeighborsClassifier(n_neighbors=5)"
   ]
  },
  {
   "cell_type": "code",
   "execution_count": 87,
   "metadata": {},
   "outputs": [
    {
     "data": {
      "text/plain": [
       "KNeighborsClassifier()"
      ]
     },
     "execution_count": 87,
     "metadata": {},
     "output_type": "execute_result"
    }
   ],
   "source": [
    "knn.fit(X_train_rf, y_train_rf)"
   ]
  },
  {
   "cell_type": "code",
   "execution_count": 88,
   "metadata": {},
   "outputs": [],
   "source": [
    "predK = knn.predict(df_test)"
   ]
  },
  {
   "cell_type": "code",
   "execution_count": 89,
   "metadata": {},
   "outputs": [
    {
     "name": "stdout",
     "output_type": "stream",
     "text": [
      "              precision    recall  f1-score   support\n",
      "\n",
      "           3       0.53      0.76      0.63        21\n",
      "           4       0.75      0.52      0.61        29\n",
      "\n",
      "    accuracy                           0.62        50\n",
      "   macro avg       0.64      0.64      0.62        50\n",
      "weighted avg       0.66      0.62      0.62        50\n",
      "\n"
     ]
    }
   ],
   "source": [
    "print(classification_report(y_test, predK))"
   ]
  },
  {
   "cell_type": "code",
   "execution_count": 42,
   "metadata": {},
   "outputs": [
    {
     "data": {
      "text/plain": [
       "0      3\n",
       "1      3\n",
       "2      4\n",
       "3      3\n",
       "4      4\n",
       "      ..\n",
       "145    3\n",
       "146    3\n",
       "147    3\n",
       "148    4\n",
       "149    3\n",
       "Name: type, Length: 150, dtype: int64"
      ]
     },
     "execution_count": 42,
     "metadata": {},
     "output_type": "execute_result"
    }
   ],
   "source": [
    "y_train_rf"
   ]
  },
  {
   "cell_type": "code",
   "execution_count": 44,
   "metadata": {},
   "outputs": [
    {
     "data": {
      "text/html": [
       "<div>\n",
       "<style scoped>\n",
       "    .dataframe tbody tr th:only-of-type {\n",
       "        vertical-align: middle;\n",
       "    }\n",
       "\n",
       "    .dataframe tbody tr th {\n",
       "        vertical-align: top;\n",
       "    }\n",
       "\n",
       "    .dataframe thead th {\n",
       "        text-align: right;\n",
       "    }\n",
       "</style>\n",
       "<table border=\"1\" class=\"dataframe\">\n",
       "  <thead>\n",
       "    <tr style=\"text-align: right;\">\n",
       "      <th></th>\n",
       "      <th>bba</th>\n",
       "      <th>baa</th>\n",
       "      <th>bab</th>\n",
       "      <th>aba</th>\n",
       "      <th>aab</th>\n",
       "      <th>abb</th>\n",
       "      <th>aaa</th>\n",
       "      <th>bbb</th>\n",
       "    </tr>\n",
       "  </thead>\n",
       "  <tbody>\n",
       "    <tr>\n",
       "      <th>0</th>\n",
       "      <td>0.724638</td>\n",
       "      <td>18.115942</td>\n",
       "      <td>5.797101</td>\n",
       "      <td>24.637681</td>\n",
       "      <td>16.666667</td>\n",
       "      <td>6.521739</td>\n",
       "      <td>26.811594</td>\n",
       "      <td>0.724638</td>\n",
       "    </tr>\n",
       "    <tr>\n",
       "      <th>1</th>\n",
       "      <td>17.857143</td>\n",
       "      <td>8.928571</td>\n",
       "      <td>21.428571</td>\n",
       "      <td>21.428571</td>\n",
       "      <td>19.642857</td>\n",
       "      <td>8.928571</td>\n",
       "      <td>0.000000</td>\n",
       "      <td>1.785714</td>\n",
       "    </tr>\n",
       "    <tr>\n",
       "      <th>2</th>\n",
       "      <td>5.714286</td>\n",
       "      <td>19.047619</td>\n",
       "      <td>20.952381</td>\n",
       "      <td>24.285714</td>\n",
       "      <td>7.142857</td>\n",
       "      <td>21.904762</td>\n",
       "      <td>0.000000</td>\n",
       "      <td>0.952381</td>\n",
       "    </tr>\n",
       "    <tr>\n",
       "      <th>3</th>\n",
       "      <td>3.960396</td>\n",
       "      <td>20.792079</td>\n",
       "      <td>23.762376</td>\n",
       "      <td>18.811881</td>\n",
       "      <td>4.950495</td>\n",
       "      <td>27.722772</td>\n",
       "      <td>0.000000</td>\n",
       "      <td>0.000000</td>\n",
       "    </tr>\n",
       "    <tr>\n",
       "      <th>4</th>\n",
       "      <td>0.432900</td>\n",
       "      <td>20.779221</td>\n",
       "      <td>5.627706</td>\n",
       "      <td>20.779221</td>\n",
       "      <td>8.225108</td>\n",
       "      <td>23.809524</td>\n",
       "      <td>19.913420</td>\n",
       "      <td>0.432900</td>\n",
       "    </tr>\n",
       "    <tr>\n",
       "      <th>...</th>\n",
       "      <td>...</td>\n",
       "      <td>...</td>\n",
       "      <td>...</td>\n",
       "      <td>...</td>\n",
       "      <td>...</td>\n",
       "      <td>...</td>\n",
       "      <td>...</td>\n",
       "      <td>...</td>\n",
       "    </tr>\n",
       "    <tr>\n",
       "      <th>145</th>\n",
       "      <td>23.076923</td>\n",
       "      <td>8.974359</td>\n",
       "      <td>21.794872</td>\n",
       "      <td>23.076923</td>\n",
       "      <td>19.230769</td>\n",
       "      <td>3.846154</td>\n",
       "      <td>0.000000</td>\n",
       "      <td>0.000000</td>\n",
       "    </tr>\n",
       "    <tr>\n",
       "      <th>146</th>\n",
       "      <td>2.970297</td>\n",
       "      <td>28.712871</td>\n",
       "      <td>5.940594</td>\n",
       "      <td>13.861386</td>\n",
       "      <td>24.752475</td>\n",
       "      <td>23.762376</td>\n",
       "      <td>0.000000</td>\n",
       "      <td>0.000000</td>\n",
       "    </tr>\n",
       "    <tr>\n",
       "      <th>147</th>\n",
       "      <td>21.590909</td>\n",
       "      <td>5.681818</td>\n",
       "      <td>21.590909</td>\n",
       "      <td>5.681818</td>\n",
       "      <td>21.590909</td>\n",
       "      <td>23.863636</td>\n",
       "      <td>0.000000</td>\n",
       "      <td>0.000000</td>\n",
       "    </tr>\n",
       "    <tr>\n",
       "      <th>148</th>\n",
       "      <td>22.267206</td>\n",
       "      <td>8.906883</td>\n",
       "      <td>19.838057</td>\n",
       "      <td>1.214575</td>\n",
       "      <td>19.028340</td>\n",
       "      <td>7.692308</td>\n",
       "      <td>2.429150</td>\n",
       "      <td>18.623482</td>\n",
       "    </tr>\n",
       "    <tr>\n",
       "      <th>149</th>\n",
       "      <td>17.073171</td>\n",
       "      <td>6.097561</td>\n",
       "      <td>18.292683</td>\n",
       "      <td>29.268293</td>\n",
       "      <td>24.390244</td>\n",
       "      <td>4.878049</td>\n",
       "      <td>0.000000</td>\n",
       "      <td>0.000000</td>\n",
       "    </tr>\n",
       "  </tbody>\n",
       "</table>\n",
       "<p>150 rows × 8 columns</p>\n",
       "</div>"
      ],
      "text/plain": [
       "           bba        baa        bab        aba        aab        abb  \\\n",
       "0     0.724638  18.115942   5.797101  24.637681  16.666667   6.521739   \n",
       "1    17.857143   8.928571  21.428571  21.428571  19.642857   8.928571   \n",
       "2     5.714286  19.047619  20.952381  24.285714   7.142857  21.904762   \n",
       "3     3.960396  20.792079  23.762376  18.811881   4.950495  27.722772   \n",
       "4     0.432900  20.779221   5.627706  20.779221   8.225108  23.809524   \n",
       "..         ...        ...        ...        ...        ...        ...   \n",
       "145  23.076923   8.974359  21.794872  23.076923  19.230769   3.846154   \n",
       "146   2.970297  28.712871   5.940594  13.861386  24.752475  23.762376   \n",
       "147  21.590909   5.681818  21.590909   5.681818  21.590909  23.863636   \n",
       "148  22.267206   8.906883  19.838057   1.214575  19.028340   7.692308   \n",
       "149  17.073171   6.097561  18.292683  29.268293  24.390244   4.878049   \n",
       "\n",
       "           aaa        bbb  \n",
       "0    26.811594   0.724638  \n",
       "1     0.000000   1.785714  \n",
       "2     0.000000   0.952381  \n",
       "3     0.000000   0.000000  \n",
       "4    19.913420   0.432900  \n",
       "..         ...        ...  \n",
       "145   0.000000   0.000000  \n",
       "146   0.000000   0.000000  \n",
       "147   0.000000   0.000000  \n",
       "148   2.429150  18.623482  \n",
       "149   0.000000   0.000000  \n",
       "\n",
       "[150 rows x 8 columns]"
      ]
     },
     "execution_count": 44,
     "metadata": {},
     "output_type": "execute_result"
    }
   ],
   "source": [
    "X_train_rf"
   ]
  },
  {
   "cell_type": "code",
   "execution_count": 45,
   "metadata": {},
   "outputs": [
    {
     "data": {
      "text/html": [
       "<div>\n",
       "<style scoped>\n",
       "    .dataframe tbody tr th:only-of-type {\n",
       "        vertical-align: middle;\n",
       "    }\n",
       "\n",
       "    .dataframe tbody tr th {\n",
       "        vertical-align: top;\n",
       "    }\n",
       "\n",
       "    .dataframe thead th {\n",
       "        text-align: right;\n",
       "    }\n",
       "</style>\n",
       "<table border=\"1\" class=\"dataframe\">\n",
       "  <thead>\n",
       "    <tr style=\"text-align: right;\">\n",
       "      <th></th>\n",
       "      <th>acc_z</th>\n",
       "    </tr>\n",
       "  </thead>\n",
       "  <tbody>\n",
       "    <tr>\n",
       "      <th>0</th>\n",
       "      <td>10.492</td>\n",
       "    </tr>\n",
       "    <tr>\n",
       "      <th>1</th>\n",
       "      <td>10.057</td>\n",
       "    </tr>\n",
       "    <tr>\n",
       "      <th>2</th>\n",
       "      <td>10.473</td>\n",
       "    </tr>\n",
       "    <tr>\n",
       "      <th>3</th>\n",
       "      <td>10.114</td>\n",
       "    </tr>\n",
       "    <tr>\n",
       "      <th>4</th>\n",
       "      <td>9.695</td>\n",
       "    </tr>\n",
       "    <tr>\n",
       "      <th>...</th>\n",
       "      <td>...</td>\n",
       "    </tr>\n",
       "    <tr>\n",
       "      <th>81</th>\n",
       "      <td>11.229</td>\n",
       "    </tr>\n",
       "    <tr>\n",
       "      <th>82</th>\n",
       "      <td>10.326</td>\n",
       "    </tr>\n",
       "    <tr>\n",
       "      <th>83</th>\n",
       "      <td>11.252</td>\n",
       "    </tr>\n",
       "    <tr>\n",
       "      <th>84</th>\n",
       "      <td>11.283</td>\n",
       "    </tr>\n",
       "    <tr>\n",
       "      <th>85</th>\n",
       "      <td>11.094</td>\n",
       "    </tr>\n",
       "  </tbody>\n",
       "</table>\n",
       "<p>86 rows × 1 columns</p>\n",
       "</div>"
      ],
      "text/plain": [
       "     acc_z\n",
       "0   10.492\n",
       "1   10.057\n",
       "2   10.473\n",
       "3   10.114\n",
       "4    9.695\n",
       "..     ...\n",
       "81  11.229\n",
       "82  10.326\n",
       "83  11.252\n",
       "84  11.283\n",
       "85  11.094\n",
       "\n",
       "[86 rows x 1 columns]"
      ]
     },
     "execution_count": 45,
     "metadata": {},
     "output_type": "execute_result"
    }
   ],
   "source": [
    "li[200]"
   ]
  },
  {
   "cell_type": "code",
   "execution_count": 51,
   "metadata": {},
   "outputs": [
    {
     "data": {
      "text/plain": [
       "[<matplotlib.lines.Line2D at 0x26dc2765850>]"
      ]
     },
     "execution_count": 51,
     "metadata": {},
     "output_type": "execute_result"
    },
    {
     "data": {
      "image/png": "[encoded data removed]",
      "text/plain": [
       "<Figure size 432x288 with 1 Axes>"
      ]
     },
     "metadata": {
      "needs_background": "light"
     },
     "output_type": "display_data"
    }
   ],
   "source": [
    "plt.plot(li[298])"
   ]
  },
  {
   "cell_type": "code",
   "execution_count": 57,
   "metadata": {},
   "outputs": [
    {
     "data": {
      "text/plain": [
       "[<matplotlib.lines.Line2D at 0x26dc28ecd60>]"
      ]
     },
     "execution_count": 57,
     "metadata": {},
     "output_type": "execute_result"
    },
    {
     "data": {
      "image/png": "[encoded data removed]",
      "text/plain": [
       "<Figure size 432x288 with 1 Axes>"
      ]
     },
     "metadata": {
      "needs_background": "light"
     },
     "output_type": "display_data"
    }
   ],
   "source": [
    "plt.plot(li[315])"
   ]
  },
  {
   "cell_type": "code",
   "execution_count": 58,
   "metadata": {},
   "outputs": [
    {
     "data": {
      "text/plain": [
       "[<matplotlib.lines.Line2D at 0x26dc39124f0>]"
      ]
     },
     "execution_count": 58,
     "metadata": {},
     "output_type": "execute_result"
    },
    {
     "data": {
      "image/png": "[encoded data removed]",
      "text/plain": [
       "<Figure size 432x288 with 1 Axes>"
      ]
     },
     "metadata": {
      "needs_background": "light"
     },
     "output_type": "display_data"
    }
   ],
   "source": [
    "plt.plot(li[250])"
   ]
  },
  {
   "cell_type": "code",
   "execution_count": 59,
   "metadata": {},
   "outputs": [
    {
     "data": {
      "text/plain": [
       "[<matplotlib.lines.Line2D at 0x26dc3952d00>]"
      ]
     },
     "execution_count": 59,
     "metadata": {},
     "output_type": "execute_result"
    },
    {
     "data": {
      "image/png": "[encoded data removed]",
      "text/plain": [
       "<Figure size 432x288 with 1 Axes>"
      ]
     },
     "metadata": {
      "needs_background": "light"
     },
     "output_type": "display_data"
    }
   ],
   "source": [
    "plt.plot(li[222])"
   ]
  },
  {
   "cell_type": "code",
   "execution_count": 60,
   "metadata": {},
   "outputs": [
    {
     "data": {
      "text/plain": [
       "[<matplotlib.lines.Line2D at 0x26dc39aa280>]"
      ]
     },
     "execution_count": 60,
     "metadata": {},
     "output_type": "execute_result"
    },
    {
     "data": {
      "image/png": "[encoded data removed]",
      "text/plain": [
       "<Figure size 432x288 with 1 Axes>"
      ]
     },
     "metadata": {
      "needs_background": "light"
     },
     "output_type": "display_data"
    }
   ],
   "source": [
    "plt.plot(li[210])"
   ]
  },
  {
   "cell_type": "markdown",
   "metadata": {},
   "source": [
    "# Work with Local Data"
   ]
  },
  {
   "cell_type": "code",
   "execution_count": 34,
   "metadata": {},
   "outputs": [],
   "source": [
    "ACC_45 = pd.read_csv(\"test_accelerometer_t45.txt\", delimiter=\"\\t\")\n",
    "GPS_45 = pd.read_csv(\"test_gps_t45.txt\", delimiter=\"\\t\")"
   ]
  },
  {
   "cell_type": "code",
   "execution_count": 41,
   "metadata": {},
   "outputs": [],
   "source": [
    "test1 = ACC_45[(ACC_45[\"Unix Time (ms since Jan 1, 1970)\"] <= 1655258345892) & (ACC_45[\"Unix Time (ms since Jan 1, 1970)\"] >= 1655258341892)]"
   ]
  },
  {
   "cell_type": "code",
   "execution_count": 46,
   "metadata": {},
   "outputs": [
    {
     "data": {
      "text/plain": [
       "[<matplotlib.lines.Line2D at 0x21ab6562940>]"
      ]
     },
     "execution_count": 46,
     "metadata": {},
     "output_type": "execute_result"
    },
    {
     "data": {
      "image/png": "[encoded data removed]",
      "text/plain": [
       "<Figure size 432x288 with 1 Axes>"
      ]
     },
     "metadata": {
      "needs_background": "light"
     },
     "output_type": "display_data"
    }
   ],
   "source": [
    "plt.plot(test1[\"Z\"][50:150])"
   ]
  },
  {
   "cell_type": "code",
   "execution_count": 99,
   "metadata": {},
   "outputs": [
    {
     "data": {
      "text/plain": [
       "array([3, 3], dtype=int64)"
      ]
     },
     "execution_count": 99,
     "metadata": {},
     "output_type": "execute_result"
    }
   ],
   "source": [
    "rfc.predict(qwe)\n"
   ]
  },
  {
   "cell_type": "code",
   "execution_count": 98,
   "metadata": {},
   "outputs": [],
   "source": [
    "qwe = TransformTest(mnb)"
   ]
  },
  {
   "cell_type": "code",
   "execution_count": 109,
   "metadata": {},
   "outputs": [],
   "source": [
    "abc = list(test1[\"Z\"][:100])\n",
    "fed = list(test1[\"Z\"][100:])\n",
    "mnb = list([abc,fed])\n",
    "\n",
    "rty = list(test2[\"Z\"][:100])\n",
    "gty = list(test2[\"Z\"][100:])\n",
    "lkj = list([rty,gty])\n",
    "\n"
   ]
  },
  {
   "cell_type": "code",
   "execution_count": 73,
   "metadata": {},
   "outputs": [
    {
     "data": {
      "text/plain": [
       "list"
      ]
     },
     "execution_count": 73,
     "metadata": {},
     "output_type": "execute_result"
    }
   ],
   "source": [
    "type(X_train)"
   ]
  },
  {
   "cell_type": "code",
   "execution_count": 66,
   "metadata": {},
   "outputs": [
    {
     "data": {
      "text/plain": [
       "150"
      ]
     },
     "execution_count": 66,
     "metadata": {},
     "output_type": "execute_result"
    }
   ],
   "source": [
    "len(X_train)"
   ]
  },
  {
   "cell_type": "code",
   "execution_count": 101,
   "metadata": {},
   "outputs": [
    {
     "data": {
      "text/html": [
       "<div>\n",
       "<style scoped>\n",
       "    .dataframe tbody tr th:only-of-type {\n",
       "        vertical-align: middle;\n",
       "    }\n",
       "\n",
       "    .dataframe tbody tr th {\n",
       "        vertical-align: top;\n",
       "    }\n",
       "\n",
       "    .dataframe thead th {\n",
       "        text-align: right;\n",
       "    }\n",
       "</style>\n",
       "<table border=\"1\" class=\"dataframe\">\n",
       "  <thead>\n",
       "    <tr style=\"text-align: right;\">\n",
       "      <th></th>\n",
       "      <th>Unix Time (ms since Jan 1, 1970)</th>\n",
       "      <th>Latitude</th>\n",
       "      <th>Longitude</th>\n",
       "      <th>Speed</th>\n",
       "    </tr>\n",
       "  </thead>\n",
       "  <tbody>\n",
       "    <tr>\n",
       "      <th>100</th>\n",
       "      <td>1655257942911</td>\n",
       "      <td>45.510788</td>\n",
       "      <td>-73.623541</td>\n",
       "      <td>12.679999</td>\n",
       "    </tr>\n",
       "    <tr>\n",
       "      <th>101</th>\n",
       "      <td>1655257943899</td>\n",
       "      <td>45.510693</td>\n",
       "      <td>-73.623625</td>\n",
       "      <td>12.420000</td>\n",
       "    </tr>\n",
       "    <tr>\n",
       "      <th>102</th>\n",
       "      <td>1655257944912</td>\n",
       "      <td>45.510601</td>\n",
       "      <td>-73.623711</td>\n",
       "      <td>11.719999</td>\n",
       "    </tr>\n",
       "    <tr>\n",
       "      <th>103</th>\n",
       "      <td>1655257945919</td>\n",
       "      <td>45.510509</td>\n",
       "      <td>-73.623789</td>\n",
       "      <td>11.559999</td>\n",
       "    </tr>\n",
       "    <tr>\n",
       "      <th>104</th>\n",
       "      <td>1655257946901</td>\n",
       "      <td>45.510427</td>\n",
       "      <td>-73.623859</td>\n",
       "      <td>10.510000</td>\n",
       "    </tr>\n",
       "    <tr>\n",
       "      <th>105</th>\n",
       "      <td>1655257947912</td>\n",
       "      <td>45.510349</td>\n",
       "      <td>-73.623920</td>\n",
       "      <td>9.800000</td>\n",
       "    </tr>\n",
       "    <tr>\n",
       "      <th>106</th>\n",
       "      <td>1655257948905</td>\n",
       "      <td>45.510272</td>\n",
       "      <td>-73.623964</td>\n",
       "      <td>9.059999</td>\n",
       "    </tr>\n",
       "    <tr>\n",
       "      <th>107</th>\n",
       "      <td>1655257949911</td>\n",
       "      <td>45.510188</td>\n",
       "      <td>-73.624003</td>\n",
       "      <td>9.010000</td>\n",
       "    </tr>\n",
       "    <tr>\n",
       "      <th>108</th>\n",
       "      <td>1655257950903</td>\n",
       "      <td>45.510114</td>\n",
       "      <td>-73.624036</td>\n",
       "      <td>7.220000</td>\n",
       "    </tr>\n",
       "    <tr>\n",
       "      <th>109</th>\n",
       "      <td>1655257951910</td>\n",
       "      <td>45.510059</td>\n",
       "      <td>-73.624059</td>\n",
       "      <td>6.030000</td>\n",
       "    </tr>\n",
       "    <tr>\n",
       "      <th>110</th>\n",
       "      <td>1655257952917</td>\n",
       "      <td>45.510019</td>\n",
       "      <td>-73.624078</td>\n",
       "      <td>5.110000</td>\n",
       "    </tr>\n",
       "    <tr>\n",
       "      <th>111</th>\n",
       "      <td>1655257953909</td>\n",
       "      <td>45.509991</td>\n",
       "      <td>-73.624088</td>\n",
       "      <td>2.920000</td>\n",
       "    </tr>\n",
       "    <tr>\n",
       "      <th>112</th>\n",
       "      <td>1655257954906</td>\n",
       "      <td>45.509976</td>\n",
       "      <td>-73.624091</td>\n",
       "      <td>1.190000</td>\n",
       "    </tr>\n",
       "    <tr>\n",
       "      <th>113</th>\n",
       "      <td>1655257955902</td>\n",
       "      <td>45.509970</td>\n",
       "      <td>-73.624095</td>\n",
       "      <td>0.320000</td>\n",
       "    </tr>\n",
       "    <tr>\n",
       "      <th>114</th>\n",
       "      <td>1655257956899</td>\n",
       "      <td>45.509970</td>\n",
       "      <td>-73.624099</td>\n",
       "      <td>0.130000</td>\n",
       "    </tr>\n",
       "    <tr>\n",
       "      <th>115</th>\n",
       "      <td>1655257957907</td>\n",
       "      <td>45.509970</td>\n",
       "      <td>-73.624099</td>\n",
       "      <td>0.000000</td>\n",
       "    </tr>\n",
       "    <tr>\n",
       "      <th>116</th>\n",
       "      <td>1655257958926</td>\n",
       "      <td>45.509970</td>\n",
       "      <td>-73.624099</td>\n",
       "      <td>0.000000</td>\n",
       "    </tr>\n",
       "    <tr>\n",
       "      <th>117</th>\n",
       "      <td>1655257959928</td>\n",
       "      <td>45.509970</td>\n",
       "      <td>-73.624099</td>\n",
       "      <td>0.000000</td>\n",
       "    </tr>\n",
       "    <tr>\n",
       "      <th>118</th>\n",
       "      <td>1655257960916</td>\n",
       "      <td>45.509970</td>\n",
       "      <td>-73.624099</td>\n",
       "      <td>0.000000</td>\n",
       "    </tr>\n",
       "    <tr>\n",
       "      <th>119</th>\n",
       "      <td>1655257961879</td>\n",
       "      <td>45.509970</td>\n",
       "      <td>-73.624100</td>\n",
       "      <td>0.000000</td>\n",
       "    </tr>\n",
       "    <tr>\n",
       "      <th>120</th>\n",
       "      <td>1655257962894</td>\n",
       "      <td>45.509969</td>\n",
       "      <td>-73.624100</td>\n",
       "      <td>0.000000</td>\n",
       "    </tr>\n",
       "    <tr>\n",
       "      <th>121</th>\n",
       "      <td>1655257963901</td>\n",
       "      <td>45.509970</td>\n",
       "      <td>-73.624100</td>\n",
       "      <td>0.000000</td>\n",
       "    </tr>\n",
       "    <tr>\n",
       "      <th>122</th>\n",
       "      <td>1655257964909</td>\n",
       "      <td>45.509969</td>\n",
       "      <td>-73.624100</td>\n",
       "      <td>0.000000</td>\n",
       "    </tr>\n",
       "    <tr>\n",
       "      <th>123</th>\n",
       "      <td>1655257965915</td>\n",
       "      <td>45.509970</td>\n",
       "      <td>-73.624100</td>\n",
       "      <td>0.000000</td>\n",
       "    </tr>\n",
       "    <tr>\n",
       "      <th>124</th>\n",
       "      <td>1655257966935</td>\n",
       "      <td>45.509970</td>\n",
       "      <td>-73.624100</td>\n",
       "      <td>0.000000</td>\n",
       "    </tr>\n",
       "    <tr>\n",
       "      <th>125</th>\n",
       "      <td>1655257967908</td>\n",
       "      <td>45.509970</td>\n",
       "      <td>-73.624100</td>\n",
       "      <td>0.000000</td>\n",
       "    </tr>\n",
       "    <tr>\n",
       "      <th>126</th>\n",
       "      <td>1655257968902</td>\n",
       "      <td>45.509970</td>\n",
       "      <td>-73.624100</td>\n",
       "      <td>0.000000</td>\n",
       "    </tr>\n",
       "    <tr>\n",
       "      <th>127</th>\n",
       "      <td>1655257969886</td>\n",
       "      <td>45.509970</td>\n",
       "      <td>-73.624100</td>\n",
       "      <td>0.000000</td>\n",
       "    </tr>\n",
       "    <tr>\n",
       "      <th>128</th>\n",
       "      <td>1655257970911</td>\n",
       "      <td>45.509970</td>\n",
       "      <td>-73.624100</td>\n",
       "      <td>0.000000</td>\n",
       "    </tr>\n",
       "    <tr>\n",
       "      <th>129</th>\n",
       "      <td>1655257971911</td>\n",
       "      <td>45.509970</td>\n",
       "      <td>-73.624100</td>\n",
       "      <td>0.000000</td>\n",
       "    </tr>\n",
       "  </tbody>\n",
       "</table>\n",
       "</div>"
      ],
      "text/plain": [
       "     Unix Time (ms since Jan 1, 1970)   Latitude  Longitude      Speed\n",
       "100                     1655257942911  45.510788 -73.623541  12.679999\n",
       "101                     1655257943899  45.510693 -73.623625  12.420000\n",
       "102                     1655257944912  45.510601 -73.623711  11.719999\n",
       "103                     1655257945919  45.510509 -73.623789  11.559999\n",
       "104                     1655257946901  45.510427 -73.623859  10.510000\n",
       "105                     1655257947912  45.510349 -73.623920   9.800000\n",
       "106                     1655257948905  45.510272 -73.623964   9.059999\n",
       "107                     1655257949911  45.510188 -73.624003   9.010000\n",
       "108                     1655257950903  45.510114 -73.624036   7.220000\n",
       "109                     1655257951910  45.510059 -73.624059   6.030000\n",
       "110                     1655257952917  45.510019 -73.624078   5.110000\n",
       "111                     1655257953909  45.509991 -73.624088   2.920000\n",
       "112                     1655257954906  45.509976 -73.624091   1.190000\n",
       "113                     1655257955902  45.509970 -73.624095   0.320000\n",
       "114                     1655257956899  45.509970 -73.624099   0.130000\n",
       "115                     1655257957907  45.509970 -73.624099   0.000000\n",
       "116                     1655257958926  45.509970 -73.624099   0.000000\n",
       "117                     1655257959928  45.509970 -73.624099   0.000000\n",
       "118                     1655257960916  45.509970 -73.624099   0.000000\n",
       "119                     1655257961879  45.509970 -73.624100   0.000000\n",
       "120                     1655257962894  45.509969 -73.624100   0.000000\n",
       "121                     1655257963901  45.509970 -73.624100   0.000000\n",
       "122                     1655257964909  45.509969 -73.624100   0.000000\n",
       "123                     1655257965915  45.509970 -73.624100   0.000000\n",
       "124                     1655257966935  45.509970 -73.624100   0.000000\n",
       "125                     1655257967908  45.509970 -73.624100   0.000000\n",
       "126                     1655257968902  45.509970 -73.624100   0.000000\n",
       "127                     1655257969886  45.509970 -73.624100   0.000000\n",
       "128                     1655257970911  45.509970 -73.624100   0.000000\n",
       "129                     1655257971911  45.509970 -73.624100   0.000000"
      ]
     },
     "execution_count": 101,
     "metadata": {},
     "output_type": "execute_result"
    }
   ],
   "source": [
    "GPS_45[100:130]"
   ]
  },
  {
   "cell_type": "code",
   "execution_count": 108,
   "metadata": {},
   "outputs": [],
   "source": [
    "test2 = ACC_45[(ACC_45[\"Unix Time (ms since Jan 1, 1970)\"] <= 1655257969886) & (ACC_45[\"Unix Time (ms since Jan 1, 1970)\"] >= 1655257962894)]"
   ]
  },
  {
   "cell_type": "code",
   "execution_count": 103,
   "metadata": {},
   "outputs": [
    {
     "data": {
      "text/html": [
       "<div>\n",
       "<style scoped>\n",
       "    .dataframe tbody tr th:only-of-type {\n",
       "        vertical-align: middle;\n",
       "    }\n",
       "\n",
       "    .dataframe tbody tr th {\n",
       "        vertical-align: top;\n",
       "    }\n",
       "\n",
       "    .dataframe thead th {\n",
       "        text-align: right;\n",
       "    }\n",
       "</style>\n",
       "<table border=\"1\" class=\"dataframe\">\n",
       "  <thead>\n",
       "    <tr style=\"text-align: right;\">\n",
       "      <th></th>\n",
       "      <th>Unix Time (ms since Jan 1, 1970)</th>\n",
       "      <th>X</th>\n",
       "      <th>Y</th>\n",
       "      <th>Z</th>\n",
       "    </tr>\n",
       "  </thead>\n",
       "  <tbody>\n",
       "    <tr>\n",
       "      <th>5634</th>\n",
       "      <td>1655257951921</td>\n",
       "      <td>0.761356</td>\n",
       "      <td>-0.555455</td>\n",
       "      <td>10.366894</td>\n",
       "    </tr>\n",
       "    <tr>\n",
       "      <th>5635</th>\n",
       "      <td>1655257951942</td>\n",
       "      <td>0.416591</td>\n",
       "      <td>-0.339977</td>\n",
       "      <td>10.180145</td>\n",
       "    </tr>\n",
       "    <tr>\n",
       "      <th>5636</th>\n",
       "      <td>1655257951962</td>\n",
       "      <td>1.379060</td>\n",
       "      <td>-0.105345</td>\n",
       "      <td>9.691729</td>\n",
       "    </tr>\n",
       "    <tr>\n",
       "      <th>5637</th>\n",
       "      <td>1655257951982</td>\n",
       "      <td>0.804452</td>\n",
       "      <td>-0.071826</td>\n",
       "      <td>10.615891</td>\n",
       "    </tr>\n",
       "    <tr>\n",
       "      <th>5638</th>\n",
       "      <td>1655257952002</td>\n",
       "      <td>0.555455</td>\n",
       "      <td>-0.129287</td>\n",
       "      <td>11.267113</td>\n",
       "    </tr>\n",
       "    <tr>\n",
       "      <th>...</th>\n",
       "      <td>...</td>\n",
       "      <td>...</td>\n",
       "      <td>...</td>\n",
       "      <td>...</td>\n",
       "    </tr>\n",
       "    <tr>\n",
       "      <th>5828</th>\n",
       "      <td>1655257955802</td>\n",
       "      <td>-0.598550</td>\n",
       "      <td>-0.181959</td>\n",
       "      <td>9.955091</td>\n",
       "    </tr>\n",
       "    <tr>\n",
       "      <th>5829</th>\n",
       "      <td>1655257955822</td>\n",
       "      <td>-0.938527</td>\n",
       "      <td>-0.296881</td>\n",
       "      <td>9.950302</td>\n",
       "    </tr>\n",
       "    <tr>\n",
       "      <th>5830</th>\n",
       "      <td>1655257955843</td>\n",
       "      <td>-0.928950</td>\n",
       "      <td>-0.248997</td>\n",
       "      <td>9.969456</td>\n",
       "    </tr>\n",
       "    <tr>\n",
       "      <th>5831</th>\n",
       "      <td>1655257955866</td>\n",
       "      <td>-1.101333</td>\n",
       "      <td>-0.421380</td>\n",
       "      <td>10.026917</td>\n",
       "    </tr>\n",
       "    <tr>\n",
       "      <th>5832</th>\n",
       "      <td>1655257955882</td>\n",
       "      <td>-1.120486</td>\n",
       "      <td>-0.373495</td>\n",
       "      <td>10.060435</td>\n",
       "    </tr>\n",
       "  </tbody>\n",
       "</table>\n",
       "<p>199 rows × 4 columns</p>\n",
       "</div>"
      ],
      "text/plain": [
       "      Unix Time (ms since Jan 1, 1970)         X         Y          Z\n",
       "5634                     1655257951921  0.761356 -0.555455  10.366894\n",
       "5635                     1655257951942  0.416591 -0.339977  10.180145\n",
       "5636                     1655257951962  1.379060 -0.105345   9.691729\n",
       "5637                     1655257951982  0.804452 -0.071826  10.615891\n",
       "5638                     1655257952002  0.555455 -0.129287  11.267113\n",
       "...                                ...       ...       ...        ...\n",
       "5828                     1655257955802 -0.598550 -0.181959   9.955091\n",
       "5829                     1655257955822 -0.938527 -0.296881   9.950302\n",
       "5830                     1655257955843 -0.928950 -0.248997   9.969456\n",
       "5831                     1655257955866 -1.101333 -0.421380  10.026917\n",
       "5832                     1655257955882 -1.120486 -0.373495  10.060435\n",
       "\n",
       "[199 rows x 4 columns]"
      ]
     },
     "execution_count": 103,
     "metadata": {},
     "output_type": "execute_result"
    }
   ],
   "source": []
  },
  {
   "cell_type": "code",
   "execution_count": 110,
   "metadata": {},
   "outputs": [],
   "source": [
    "qwd = TransformTest(lkj)"
   ]
  },
  {
   "cell_type": "code",
   "execution_count": 111,
   "metadata": {},
   "outputs": [
    {
     "data": {
      "text/plain": [
       "array([4, 3], dtype=int64)"
      ]
     },
     "execution_count": 111,
     "metadata": {},
     "output_type": "execute_result"
    }
   ],
   "source": [
    "rfc.predict(qwd)"
   ]
  },
  {
   "cell_type": "markdown",
   "metadata": {},
   "source": [
    "# Github Data"
   ]
  },
  {
   "cell_type": "code",
   "execution_count": 16,
   "metadata": {},
   "outputs": [],
   "source": [
    "url = \"https://raw.githubusercontent.com/shouvikmani/Intelligent-Pothole-Detection/master/data/Pothole_Non_Pothole/trip1_combined.csv\"\n",
    "df = pd.read_csv(url)"
   ]
  },
  {
   "cell_type": "code",
   "execution_count": 30,
   "metadata": {},
   "outputs": [
    {
     "data": {
      "text/plain": [
       "0.20702056815938263"
      ]
     },
     "execution_count": 30,
     "metadata": {},
     "output_type": "execute_result"
    }
   ],
   "source": [
    "np.mean(df[\"accelerometerZ\"])"
   ]
  },
  {
   "cell_type": "code",
   "execution_count": 22,
   "metadata": {},
   "outputs": [
    {
     "data": {
      "text/html": [
       "<div>\n",
       "<style scoped>\n",
       "    .dataframe tbody tr th:only-of-type {\n",
       "        vertical-align: middle;\n",
       "    }\n",
       "\n",
       "    .dataframe tbody tr th {\n",
       "        vertical-align: top;\n",
       "    }\n",
       "\n",
       "    .dataframe thead th {\n",
       "        text-align: right;\n",
       "    }\n",
       "</style>\n",
       "<table border=\"1\" class=\"dataframe\">\n",
       "  <thead>\n",
       "    <tr style=\"text-align: right;\">\n",
       "      <th></th>\n",
       "      <th>Unnamed: 0</th>\n",
       "      <th>timestamp</th>\n",
       "      <th>latitude</th>\n",
       "      <th>longitude</th>\n",
       "      <th>speed</th>\n",
       "      <th>accelerometerX</th>\n",
       "      <th>accelerometerY</th>\n",
       "      <th>accelerometerZ</th>\n",
       "      <th>gyroX</th>\n",
       "      <th>gyroY</th>\n",
       "      <th>gyroZ</th>\n",
       "      <th>potholes</th>\n",
       "    </tr>\n",
       "  </thead>\n",
       "  <tbody>\n",
       "    <tr>\n",
       "      <th>0</th>\n",
       "      <td>0</td>\n",
       "      <td>1.492639e+09</td>\n",
       "      <td>40.447445</td>\n",
       "      <td>-79.944189</td>\n",
       "      <td>0.0</td>\n",
       "      <td>0.016998</td>\n",
       "      <td>-0.962234</td>\n",
       "      <td>0.203888</td>\n",
       "      <td>-0.016994</td>\n",
       "      <td>0.019259</td>\n",
       "      <td>0.007240</td>\n",
       "      <td>False</td>\n",
       "    </tr>\n",
       "    <tr>\n",
       "      <th>1</th>\n",
       "      <td>1</td>\n",
       "      <td>1.492639e+09</td>\n",
       "      <td>40.447445</td>\n",
       "      <td>-79.944189</td>\n",
       "      <td>0.0</td>\n",
       "      <td>0.050751</td>\n",
       "      <td>-0.962997</td>\n",
       "      <td>0.193954</td>\n",
       "      <td>-0.018083</td>\n",
       "      <td>0.004373</td>\n",
       "      <td>0.000870</td>\n",
       "      <td>False</td>\n",
       "    </tr>\n",
       "    <tr>\n",
       "      <th>2</th>\n",
       "      <td>2</td>\n",
       "      <td>1.492639e+09</td>\n",
       "      <td>40.447445</td>\n",
       "      <td>-79.944189</td>\n",
       "      <td>0.0</td>\n",
       "      <td>0.037415</td>\n",
       "      <td>-0.959229</td>\n",
       "      <td>0.191544</td>\n",
       "      <td>-0.014993</td>\n",
       "      <td>-0.009476</td>\n",
       "      <td>0.000937</td>\n",
       "      <td>False</td>\n",
       "    </tr>\n",
       "    <tr>\n",
       "      <th>3</th>\n",
       "      <td>3</td>\n",
       "      <td>1.492639e+09</td>\n",
       "      <td>40.447445</td>\n",
       "      <td>-79.944189</td>\n",
       "      <td>0.0</td>\n",
       "      <td>0.053787</td>\n",
       "      <td>-0.963852</td>\n",
       "      <td>0.277252</td>\n",
       "      <td>-0.046893</td>\n",
       "      <td>-0.001822</td>\n",
       "      <td>0.001657</td>\n",
       "      <td>False</td>\n",
       "    </tr>\n",
       "    <tr>\n",
       "      <th>4</th>\n",
       "      <td>4</td>\n",
       "      <td>1.492639e+09</td>\n",
       "      <td>40.447445</td>\n",
       "      <td>-79.944189</td>\n",
       "      <td>0.0</td>\n",
       "      <td>0.031647</td>\n",
       "      <td>-0.953003</td>\n",
       "      <td>0.271057</td>\n",
       "      <td>-0.007371</td>\n",
       "      <td>0.003238</td>\n",
       "      <td>-0.004349</td>\n",
       "      <td>False</td>\n",
       "    </tr>\n",
       "    <tr>\n",
       "      <th>...</th>\n",
       "      <td>...</td>\n",
       "      <td>...</td>\n",
       "      <td>...</td>\n",
       "      <td>...</td>\n",
       "      <td>...</td>\n",
       "      <td>...</td>\n",
       "      <td>...</td>\n",
       "      <td>...</td>\n",
       "      <td>...</td>\n",
       "      <td>...</td>\n",
       "      <td>...</td>\n",
       "      <td>...</td>\n",
       "    </tr>\n",
       "    <tr>\n",
       "      <th>2212</th>\n",
       "      <td>2212</td>\n",
       "      <td>1.492639e+09</td>\n",
       "      <td>40.446526</td>\n",
       "      <td>-79.947167</td>\n",
       "      <td>0.0</td>\n",
       "      <td>0.145248</td>\n",
       "      <td>-1.019073</td>\n",
       "      <td>0.116913</td>\n",
       "      <td>-0.051081</td>\n",
       "      <td>-0.009230</td>\n",
       "      <td>0.069871</td>\n",
       "      <td>False</td>\n",
       "    </tr>\n",
       "    <tr>\n",
       "      <th>2213</th>\n",
       "      <td>2213</td>\n",
       "      <td>1.492639e+09</td>\n",
       "      <td>40.446526</td>\n",
       "      <td>-79.947167</td>\n",
       "      <td>0.0</td>\n",
       "      <td>0.132523</td>\n",
       "      <td>-0.936829</td>\n",
       "      <td>0.188599</td>\n",
       "      <td>-0.076173</td>\n",
       "      <td>-0.008008</td>\n",
       "      <td>0.036558</td>\n",
       "      <td>False</td>\n",
       "    </tr>\n",
       "    <tr>\n",
       "      <th>2214</th>\n",
       "      <td>2214</td>\n",
       "      <td>1.492639e+09</td>\n",
       "      <td>40.446526</td>\n",
       "      <td>-79.947168</td>\n",
       "      <td>0.0</td>\n",
       "      <td>0.119171</td>\n",
       "      <td>-1.036392</td>\n",
       "      <td>0.141785</td>\n",
       "      <td>0.065057</td>\n",
       "      <td>-0.065304</td>\n",
       "      <td>0.034953</td>\n",
       "      <td>False</td>\n",
       "    </tr>\n",
       "    <tr>\n",
       "      <th>2215</th>\n",
       "      <td>2215</td>\n",
       "      <td>1.492639e+09</td>\n",
       "      <td>40.446526</td>\n",
       "      <td>-79.947168</td>\n",
       "      <td>0.0</td>\n",
       "      <td>0.160461</td>\n",
       "      <td>-0.955124</td>\n",
       "      <td>0.150879</td>\n",
       "      <td>0.008099</td>\n",
       "      <td>0.060577</td>\n",
       "      <td>-0.013934</td>\n",
       "      <td>False</td>\n",
       "    </tr>\n",
       "    <tr>\n",
       "      <th>2216</th>\n",
       "      <td>2216</td>\n",
       "      <td>1.492639e+09</td>\n",
       "      <td>40.446526</td>\n",
       "      <td>-79.947168</td>\n",
       "      <td>0.0</td>\n",
       "      <td>0.017517</td>\n",
       "      <td>-0.957230</td>\n",
       "      <td>0.209763</td>\n",
       "      <td>-0.176547</td>\n",
       "      <td>0.101132</td>\n",
       "      <td>-0.039386</td>\n",
       "      <td>False</td>\n",
       "    </tr>\n",
       "  </tbody>\n",
       "</table>\n",
       "<p>2217 rows × 12 columns</p>\n",
       "</div>"
      ],
      "text/plain": [
       "      Unnamed: 0     timestamp   latitude  longitude  speed  accelerometerX  \\\n",
       "0              0  1.492639e+09  40.447445 -79.944189    0.0        0.016998   \n",
       "1              1  1.492639e+09  40.447445 -79.944189    0.0        0.050751   \n",
       "2              2  1.492639e+09  40.447445 -79.944189    0.0        0.037415   \n",
       "3              3  1.492639e+09  40.447445 -79.944189    0.0        0.053787   \n",
       "4              4  1.492639e+09  40.447445 -79.944189    0.0        0.031647   \n",
       "...          ...           ...        ...        ...    ...             ...   \n",
       "2212        2212  1.492639e+09  40.446526 -79.947167    0.0        0.145248   \n",
       "2213        2213  1.492639e+09  40.446526 -79.947167    0.0        0.132523   \n",
       "2214        2214  1.492639e+09  40.446526 -79.947168    0.0        0.119171   \n",
       "2215        2215  1.492639e+09  40.446526 -79.947168    0.0        0.160461   \n",
       "2216        2216  1.492639e+09  40.446526 -79.947168    0.0        0.017517   \n",
       "\n",
       "      accelerometerY  accelerometerZ     gyroX     gyroY     gyroZ  potholes  \n",
       "0          -0.962234        0.203888 -0.016994  0.019259  0.007240     False  \n",
       "1          -0.962997        0.193954 -0.018083  0.004373  0.000870     False  \n",
       "2          -0.959229        0.191544 -0.014993 -0.009476  0.000937     False  \n",
       "3          -0.963852        0.277252 -0.046893 -0.001822  0.001657     False  \n",
       "4          -0.953003        0.271057 -0.007371  0.003238 -0.004349     False  \n",
       "...              ...             ...       ...       ...       ...       ...  \n",
       "2212       -1.019073        0.116913 -0.051081 -0.009230  0.069871     False  \n",
       "2213       -0.936829        0.188599 -0.076173 -0.008008  0.036558     False  \n",
       "2214       -1.036392        0.141785  0.065057 -0.065304  0.034953     False  \n",
       "2215       -0.955124        0.150879  0.008099  0.060577 -0.013934     False  \n",
       "2216       -0.957230        0.209763 -0.176547  0.101132 -0.039386     False  \n",
       "\n",
       "[2217 rows x 12 columns]"
      ]
     },
     "execution_count": 22,
     "metadata": {},
     "output_type": "execute_result"
    }
   ],
   "source": [
    "df"
   ]
  },
  {
   "cell_type": "code",
   "execution_count": null,
   "metadata": {},
   "outputs": [],
   "source": []
  }
 ],
 "metadata": {
  "kernelspec": {
   "display_name": "Python 3",
   "language": "python",
   "name": "python3"
  },
  "language_info": {
   "codemirror_mode": {
    "name": "ipython",
    "version": 3
   },
   "file_extension": ".py",
   "mimetype": "text/x-python",
   "name": "python",
   "nbconvert_exporter": "python",
   "pygments_lexer": "ipython3",
   "version": "3.8.3"
  }
 },
 "nbformat": 4,
 "nbformat_minor": 4
}
